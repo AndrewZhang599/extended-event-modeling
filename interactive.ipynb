{
 "cells": [
  {
   "cell_type": "code",
   "execution_count": 85,
   "metadata": {},
   "outputs": [],
   "source": [
    "# for setting-up, need to set-up nodejs because jupyterlab get extensions from nmp packages\n",
    "# conda install -c conda-forge nodejs\n",
    "#!jupyter nbextension enable --py widgetsnbextension\n",
    "#!jupyter labextension install @jupyter-widgets/jupyterlab-manager\n",
    "# (may need to restart your lab)"
   ]
  },
  {
   "cell_type": "code",
   "execution_count": 86,
   "metadata": {},
   "outputs": [
    {
     "name": "stdout",
     "output_type": "stream",
     "text": [
      "JupyterLab v2.2.6\n",
      "No installed extensions\n",
      "Known nbextensions:\n",
      "  config dir: C:\\Users\\nguye\\.jupyter\\nbconfig\n",
      "    notebook section\n",
      "      jupyter-js-widgets/extension enabled \n",
      "  config dir: C:\\Users\\nguye\\anaconda3\\envs\\sem-pysot-37\\etc\\jupyter\\nbconfig\n",
      "    notebook section\n",
      "      jupyter-webrtc/extension enabled \n",
      "      jupyter-js-widgets/extension enabled \n"
     ]
    },
    {
     "name": "stderr",
     "output_type": "stream",
     "text": [
      "      - Validating: ok\n",
      "      - Validating: ok\n",
      "      - Validating: ok\n"
     ]
    }
   ],
   "source": [
    "!jupyter labextension list\n",
    "!jupyter nbextension list"
   ]
  },
  {
   "cell_type": "code",
   "execution_count": 87,
   "metadata": {},
   "outputs": [],
   "source": [
    "import numpy as np\n",
    "import cv2\n",
    "import matplotlib\n",
    "from matplotlib.backends.backend_agg import FigureCanvasAgg\n",
    "from matplotlib.figure import Figure\n",
    "import matplotlib.pyplot as plt\n",
    "import seaborn as sns\n",
    "\n",
    "from ipywidgets import interact, interactive, fixed, interact_manual, Video, Image\n",
    "import ipywidgets as widgets\n",
    "from IPython.display import display\n",
    "\n",
    "# Only video written by skvideo can be read in notebook - weird???\n",
    "# import skvideo\n",
    "# ffmpeg_path = 'C:/Users/nguye/ffmpeg-4.3.1-2020-10-01-full_build/bin'\n",
    "# skvideo.setFFmpegPath(ffmpeg_path)\n",
    "# import skvideo.io\n",
    "# print(\"FFmpeg path: {}\".format(skvideo.getFFmpegPath()))"
   ]
  },
  {
   "cell_type": "code",
   "execution_count": 88,
   "metadata": {},
   "outputs": [
    {
     "data": {
      "application/vnd.jupyter.widget-view+json": {
       "model_id": "90309ac02e0542d4ba1bf0d30cf8dedf",
       "version_major": 2,
       "version_minor": 0
      },
      "text/plain": [
       "Video(value=b'\\x00\\x00\\x00 ftypisom\\x00\\x00\\x02\\x00isomiso2avc1mp41\\x00\\x00\\x00\\x08free\\x01\\xb3Ajmdat\\x00\\x00\\…"
      ]
     },
     "metadata": {},
     "output_type": "display_data"
    }
   ],
   "source": [
    "# Example opening mp4 video interactively\n",
    "\n",
    "outputdata = np.random.random(size=(100, 480, 680, 3)) * 255\n",
    "outputdata = outputdata.astype(np.uint8)\n",
    "\n",
    "skvideo.io.vwrite(\"outputvideo.mp4\", outputdata)\n",
    "video_widget = Video.from_file('outputvideo.mp4')\n",
    "video_widget"
   ]
  },
  {
   "cell_type": "code",
   "execution_count": 89,
   "metadata": {},
   "outputs": [],
   "source": [
    "import os\n",
    "import sys\n",
    "sys.path.append('../pysot')\n",
    "from run_sem_with_features import preprocess_skel\n",
    "\n",
    "skel_df = preprocess_skel('output/skel/4.4.5_skel_features.csv')"
   ]
  },
  {
   "cell_type": "code",
   "execution_count": 90,
   "metadata": {},
   "outputs": [],
   "source": [
    "from utils import CV2VideoReader, FrameWrapper\n",
    "import cv2\n",
    "cv2_video_reader = CV2VideoReader('data/small_videos/4.4.5_C1_trim.mp4')\n",
    "buffer_frames = dict()\n",
    "frame_id = -1\n",
    "while cv2_video_reader.capture.isOpened():\n",
    "    frame_id += 1\n",
    "    ret, frame = cv2_video_reader.read_frame()\n",
    "    if frame_id > 10000:\n",
    "        break\n",
    "    if frame_id % 10 == 0:\n",
    "        frame_wrapper = FrameWrapper(frame)\n",
    "        frame_wrapper.put_text(f'FrameID: {frame_id}')\n",
    "        buffer_frames[frame_id] = cv2.resize(frame_wrapper.frame, (480, 270))"
   ]
  },
  {
   "cell_type": "code",
   "execution_count": 96,
   "metadata": {},
   "outputs": [
    {
     "data": {
      "application/vnd.jupyter.widget-view+json": {
       "model_id": "876a9eabee4443008351efb77d9416f5",
       "version_major": 2,
       "version_minor": 0
      },
      "text/plain": [
       "interactive(children=(IntSlider(value=110, description='index', max=10000, min=110, step=10), Output()), _dom_…"
      ]
     },
     "metadata": {},
     "output_type": "display_data"
    },
    {
     "data": {
      "application/vnd.jupyter.widget-view+json": {
       "model_id": "e80272928dc24957aa8b143b832394f0",
       "version_major": 2,
       "version_minor": 0
      },
      "text/plain": [
       "interactive(children=(IntSlider(value=110, description='index', max=10000, min=110, step=10), Output()), _dom_…"
      ]
     },
     "metadata": {},
     "output_type": "display_data"
    }
   ],
   "source": [
    "# Example interactive widgets\n",
    "from IPython.display import display\n",
    "from ipywidgets import Image\n",
    "import PIL.Image\n",
    "@interact(index=(110, 10000, 10))\n",
    "def one_feature(index=110):\n",
    "    plt.ylim([0, 1])\n",
    "    plt.plot(skel_df.loc[110: index, 'J0_3D_X'])\n",
    "    plt.ylabel('J0_3D_X')\n",
    "    plt.xlabel('FrameID')\n",
    "    plt.scatter(index, skel_df.loc[index, 'J0_3D_X'], color='red')\n",
    "    display(PIL.Image.fromarray(buffer_frames[index][:, :, ::-1]))\n",
    "    \n",
    "\n",
    "@interact(index=(110, 10000, 10))\n",
    "def two_feature(index=110):\n",
    "    plt.ylim([0, 1])\n",
    "    plt.xlim([0, 1])\n",
    "    plt.plot(skel_df.loc[102:index, 'J0_3D_X'], skel_df.loc[102: index, 'J11_3D_X'])\n",
    "    plt.xlabel('J0_3D_X')\n",
    "    plt.ylabel('J11_3D_X')\n",
    "    plt.scatter(skel_df.loc[index, 'J0_3D_X'], skel_df.loc[index, 'J11_3D_X'], color='red')\n",
    "    display(PIL.Image.fromarray(buffer_frames[index][:, :, ::-1]))"
   ]
  },
  {
   "cell_type": "code",
   "execution_count": null,
   "metadata": {},
   "outputs": [],
   "source": [
    "# Example viewing multiple images\n",
    "import glob\n",
    "import matplotlib.pyplot as plt\n",
    "import matplotlib.image as mpimg\n",
    "%matplotlib inline\n",
    "\n",
    "images = []\n",
    "for img_path in glob.glob('output/1042/*.jpg'):\n",
    "    images.append(mpimg.imread(img_path))\n",
    "\n",
    "plt.figure(figsize=(20,20))\n",
    "columns = 5\n",
    "for i, image in enumerate(images):\n",
    "    plt.subplot(len(images) / columns + 1, columns, i + 1)\n",
    "    plt.imshow(image)"
   ]
  }
 ],
 "metadata": {
  "kernelspec": {
   "display_name": "Python 3",
   "language": "python",
   "name": "python3"
  },
  "language_info": {
   "codemirror_mode": {
    "name": "ipython",
    "version": 3
   },
   "file_extension": ".py",
   "mimetype": "text/x-python",
   "name": "python",
   "nbconvert_exporter": "python",
   "pygments_lexer": "ipython3",
   "version": "3.7.9"
  }
 },
 "nbformat": 4,
 "nbformat_minor": 4
}
