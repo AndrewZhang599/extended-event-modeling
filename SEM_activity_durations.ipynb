{
 "cells": [
  {
   "cell_type": "markdown",
   "id": "cc677ab3-4b69-4d45-b37e-e7f6cf500d5f",
   "metadata": {},
   "source": [
    "# SEM Modeling Activity Duration"
   ]
  },
  {
   "cell_type": "code",
   "execution_count": 4,
   "id": "934ed7b9-1e58-46d4-b09f-20939a0ee258",
   "metadata": {},
   "outputs": [],
   "source": [
    "import pandas as pd"
   ]
  },
  {
   "cell_type": "code",
   "execution_count": 5,
   "id": "1ed35e48-3be7-48f6-b7ba-a7402bf993a7",
   "metadata": {},
   "outputs": [],
   "source": [
    "movie_durations = {\"1.1.10_C1_trim\":916.438000,\n",
    "                        \"1.1.1_C1_trim\":914.500000,\n",
    "                        \"1.1.2_C1_trim\":775.104000,\n",
    "                        \"1.1.3_C1_trim\":796.438000, \n",
    "                        \"1.1.4_C1_trim\":728.854000, \n",
    "                        \"1.1.5_C1_trim\":713.600000,\n",
    "                        \"1.1.6_C1_trim\":990.294000, \n",
    "                        \"1.1.7_C1_trim\":750.467000, \n",
    "                        \"1.1.8_C1_trim\":749.206000,\n",
    "                        \"1.1.9_C1_trim\":747.264000,\n",
    "                        \"1.2.10_C1_trim\":690.518000,\n",
    "                        \"1.2.1_C1_trim\":440.214000,\n",
    "                        \"1.2.2_C1_trim\":549.398000,\n",
    "                        \"1.2.3_C1_trim\":586.112000,\n",
    "                        \"1.2.4_C1_trim\":581.632000, \n",
    "                        \"1.2.5_C1_trim\":483.520000, \n",
    "                        \"1.2.6_C1_trim\":675.840000, \n",
    "                        \"1.2.7_C1_trim\":493.800000, \n",
    "                        \"1.2.8_C1_trim\":548.224000, \n",
    "                        \"1.2.9_C1_trim\":684.054000, \n",
    "                        \"1.3.10_C1_trim\":584.896000, \n",
    "                        \"1.3.1_C1_trim\":544.406000,\n",
    "                        \"1.3.2_C1_trim\":670.667000, \n",
    "                        \"1.3.3_C1_trim\":574.635000,\n",
    "                        \"1.3.4_C1_trim\":581.739000,\n",
    "                        \"1.3.5_C1_trim\":712.470000, \n",
    "                        \"1.3.6_C1_trim\":730.454000,\n",
    "                        \"1.3.7_C1_trim\":604.566000,\n",
    "                        \"1.3.8_C1_trim\":558.067000, \n",
    "                        \"1.3.9_C1_trim\":732.736000,\n",
    "                        \"2.2.10_C1_trim\":590.336000, \n",
    "                        \"2.2.1_C1_trim\":575.296000, \n",
    "                        \"2.2.2_C1_trim\":547.648000, \n",
    "                        \"2.2.3_C1_trim\":547.542000, \n",
    "                        \"2.2.4_C1_trim\":527.382000, \n",
    "                        \"2.2.5_C1_trim\":560.790000, \n",
    "                        \"2.2.6_C1_trim\":521.686000, \n",
    "                        \"2.2.7_C1_trim\":571.734000, \n",
    "                        \"2.2.8_C1_trim\":564.310000, \n",
    "                        \"2.2.9_C1_trim\":634.400000, \n",
    "                        \"2.3.10_C1_trim\":517.248000,\n",
    "                        \"2.3.1_C1_trim\":553.686000,\n",
    "                        \"2.3.2_C1_trim\":539.776000,\n",
    "                        \"2.3.3_C1_trim\":685.206000, \n",
    "                        \"2.3.4_C1_trim\":583.190000, \n",
    "                        \"2.3.5_C1_trim\":490.902000,\n",
    "                        \"2.3.6_C1_trim\":630.720000,\n",
    "                        \"2.3.7_C1_trim\":623.830000,\n",
    "                        \"2.3.8_C1_trim\":582.230000,\n",
    "                        \"2.3.9_C1_trim\":399.446000,\n",
    "                        \"2.4.10_C1_trim\":469.078000,\n",
    "                        \"2.4.1_C1_trim\":645.824000, \n",
    "                        \"2.4.2_C1_trim\":580.288000, \n",
    "                        \"2.4.3_C1_trim\":645.824000, \n",
    "                        \"2.4.4_C1_trim\":544.342000,\n",
    "                        \"2.4.5_C1_trim\":648.448000,\n",
    "                        \"2.4.6_C1_trim\":690.234000,\n",
    "                        \"2.4.7_C1_trim\":420.800000,\n",
    "                        \"2.4.8_C1_trim\":493.654000,\n",
    "                        \"2.4.9_C1_trim\":566.784000,\n",
    "                        \"3.1.10_C1_trim\":586.304000,\n",
    "                        \"3.1.1_C1_trim\":550.358000,\n",
    "                        \"3.1.2_C1_trim\":689.408000, \n",
    "                        \"3.1.3_C1_trim\":585.984000, \n",
    "                        \"3.1.4_C1_trim\":690.198000, \n",
    "                        \"3.1.5_C1_trim\":656.406000,\n",
    "                        \"3.1.6_C1_trim\":612.758000,\n",
    "                        \"3.1.7_C1_trim\":680.086000,\n",
    "                        \"3.1.8_C1_trim\":587.862000,\n",
    "                        \"3.1.9_C1_trim\":638.272000,\n",
    "                        \"3.3.10_C1_trim\":523.072000,\n",
    "                        \"3.3.1_C1_trim\":627.008000, \n",
    "                        \"3.3.2_C1_trim\":706.176000, \n",
    "                        \"3.3.3_C1_trim\":558.592000,\n",
    "                        \"3.3.4_C1_trim\":488.512000, \n",
    "                        \"3.3.5_C1_trim\":851.200000, \n",
    "                        \"3.3.6_C1_trim\":596.900000, \n",
    "                        \"3.3.7_C1_trim\":752.000000, \n",
    "                        \"3.3.8_C1_trim\":700.736000, \n",
    "                        \"3.3.9_C1_trim\":600.384000,\n",
    "                        \"3.4.10_C1_trim\":597.014000,\n",
    "                        \"3.4.1_C1_trim\":347.286000,\n",
    "                        \"3.4.2_C1_trim\":371.136000, \n",
    "                        \"3.4.3_C1_trim\":493.312000,\n",
    "                        \"3.4.4_C1_trim\":347.648000,\n",
    "                        \"3.4.5_C1_trim\":438.294000,\n",
    "                        \"3.4.6_C1_trim\":501.824000,\n",
    "                        \"3.4.7_C1_trim\":454.784000,\n",
    "                        \"3.4.8_C1_trim\":441.280000,\n",
    "                        \"3.4.9_C1_trim\":585.920000,\n",
    "                        \"4.1.10_C1_trim\":665.408000,\n",
    "                        \"4.1.1_C1_trim\":1309.184000,\n",
    "                        \"4.1.2_C1_trim\":916.758000, \n",
    "                        \"4.1.3_C1_trim\":586.752000,\n",
    "                        \"4.1.4_C1_trim\":628.800000,\n",
    "                        \"4.1.5_C1_trim\":514.304000,\n",
    "                        \"4.1.6_C1_trim\":812.224000,\n",
    "                        \"4.1.7_C1_trim\":664.900000,\n",
    "                        \"4.1.8_C1_trim\":636.950000,\n",
    "                        \"4.1.9_C1_trim\":725.270000,\n",
    "                        \"4.3.10_C1_trim\":456.384000,\n",
    "                        \"4.3.1_C1_trim\":669.824000,\n",
    "                        \"4.3.2_C1_trim\":618.600000,\n",
    "                        \"4.3.3_C1_trim\":493.952000,\n",
    "                        \"4.3.4_C1_trim\":602.240000,\n",
    "                        \"4.3.5_C1_trim\":560.640000,\n",
    "                        \"4.3.6_C1_trim\":617.600000,\n",
    "                        \"4.3.7_C1_trim\":482.048000,\n",
    "                        \"4.3.8_C1_trim\":509.398000,\n",
    "                        \"4.3.9_C1_trim\":548.032000,\n",
    "                        \"4.4.10_C1_trim\":697.536000,\n",
    "                        \"4.4.1_C1_trim\":335.446000, \n",
    "                        \"4.4.2_C1_trim\":538.816000, \n",
    "                        \"4.4.3_C1_trim\":752.334000,\n",
    "                        \"4.4.4_C1_trim\":412.438000,\n",
    "                        \"4.4.5_C1_trim\":582.464000,\n",
    "                        \"4.4.6_C1_trim\":650.816000,\n",
    "                        \"4.4.7_C1_trim\":656.790000,\n",
    "                        \"4.4.8_C1_trim\":632.982000,\n",
    "                        \"4.4.9_C1_trim\":589.846000,\n",
    "                        \"6.1.10_C1_trim\":977.792000,\n",
    "                        \"6.1.1_C1_trim\":839.958000, \n",
    "                        \"6.1.2_C1_trim\":762.400000,\n",
    "                        \"6.1.3_C1_trim\":765.696000,\n",
    "                        \"6.1.4_C1_trim\":851.798000,\n",
    "                        \"6.1.5_C1_trim\":796.182000,\n",
    "                        \"6.1.6_C1_trim\":774.976000,\n",
    "                        \"6.1.7_C1_trim\":661.200000,\n",
    "                        \"6.1.8_C1_trim\":1156.246000,\n",
    "                        \"6.1.9_C1_trim\":666.432000, \n",
    "                        \"6.2.10_C1_trim\":541.590000,\n",
    "                        \"6.2.1_C1_trim\":488.939000,\n",
    "                        \"6.2.2_C1_trim\":509.120000,\n",
    "                        \"6.2.3_C1_trim\":479.574000,\n",
    "                        \"6.2.4_C1_trim\":546.518000,\n",
    "                        \"6.2.5_C1_trim\":409.878000,\n",
    "                        \"6.2.6_C1_trim\":403.648000, \n",
    "                        \"6.2.7_C1_trim\":508.843000, \n",
    "                        \"6.2.8_C1_trim\":421.967000, \n",
    "                        \"6.2.9_C1_trim\":505.238000,\n",
    "                        \"6.3.10_C1_trim\":782.166000, \n",
    "                        \"6.3.1_C1_trim\":440.256000,\n",
    "                        \"6.3.2_C1_trim\":546.560000,\n",
    "                        \"6.3.3_C1_trim\":734.294000,\n",
    "                        \"6.3.4_C1_trim\":649.600000, \n",
    "                        \"6.3.5_C1_trim\":515.670000,\n",
    "                        \"6.3.6_C1_trim\":774.208000,\n",
    "                        \"6.3.7_C1_trim\":752.832000,\n",
    "                        \"6.3.8_C1_trim\":619.478000, \n",
    "                        \"6.3.9_C1_trim\":679.488000}"
   ]
  },
  {
   "cell_type": "markdown",
   "id": "e1421a5e-8314-4741-8742-07a08755eebc",
   "metadata": {},
   "source": [
    " #### All training and validation runs, from https://github.com/mbezdek/extended-event-modeling/blob/main/qualified_train_.8_.8.txt"
   ]
  },
  {
   "cell_type": "code",
   "execution_count": 30,
   "id": "37650d2c-33fb-4160-8102-af41c43a6a23",
   "metadata": {},
   "outputs": [],
   "source": [
    "all_runs = ['6.3.1',\n",
    "'3.4.5',\n",
    "'2.4.8',\n",
    "'2.2.2',\n",
    "'1.2.9',\n",
    "'3.1.5',\n",
    "'6.2.4',\n",
    "'3.1.7',\n",
    "'6.3.5',\n",
    "'2.4.4',\n",
    "'1.2.8',\n",
    "'3.1.1',\n",
    "'2.4.6',\n",
    "'1.3.8',\n",
    "'2.3.5',\n",
    "'1.2.3',\n",
    "'3.3.8',\n",
    "'1.1.10',\n",
    "'1.2.4',\n",
    "'4.3.6',\n",
    "'6.3.7',\n",
    "'3.3.9',\n",
    "'6.1.4',\n",
    "'3.3.5',\n",
    "'3.4.2',\n",
    "'3.1.10',\n",
    "'1.3.10',\n",
    "'4.1.7',\n",
    "'1.2.6',\n",
    "'3.3.3',\n",
    "'1.3.9',\n",
    "'3.4.4',\n",
    "'4.4.7',\n",
    "'3.1.8',\n",
    "'4.4.4',\n",
    "'2.3.9',\n",
    "'6.1.7',\n",
    "'2.4.7',\n",
    "'3.4.1',\n",
    "'2.2.3',\n",
    "'6.2.5',\n",
    "'4.3.1',\n",
    "'2.4.1',\n",
    "'3.4.6',\n",
    "'2.3.1',\n",
    "'4.3.2',\n",
    "'2.4.10',\n",
    "'6.2.8',\n",
    "'2.3.10',\n",
    "'3.4.10',\n",
    "'4.3.7',\n",
    "'3.1.9',\n",
    "'3.3.1',\n",
    "'1.1.7',\n",
    "'6.1.10',\n",
    "'3.1.2',\n",
    "'2.3.4',\n",
    "'4.4.1',\n",
    "'6.3.9',\n",
    "'3.4.7',\n",
    "'1.2.1',\n",
    "'4.3.4',\n",
    "'2.2.7',\n",
    "'3.4.9',\n",
    "'4.4.9',\n",
    "'6.1.9',\n",
    "'1.3.1',\n",
    "'4.3.3',\n",
    "'2.3.2',\n",
    "'6.3.3',\n",
    "'2.2.5',\n",
    "'6.1.1',\n",
    "'4.3.10',\n",
    "'2.3.6',\n",
    "'1.3.4',\n",
    "'6.1.6',\n",
    "'4.3.8',\n",
    "'6.3.2',\n",
    "'1.1.3',\n",
    "'4.4.5',\n",
    "'1.1.9',\n",
    "'1.1.1',\n",
    "'3.3.4',\n",
    "'2.2.6',\n",
    "'6.3.6',\n",
    "'2.3.8',\n",
    "'2.4.5',\n",
    "'2.2.4',\n",
    "'1.1.4',\n",
    "'3.1.6',\n",
    "'1.1.5',\n",
    "'3.4.8',\n",
    "'1.3.7',\n",
    "'3.3.10',\n",
    "'4.1.5',\n",
    "'2.3.7',\n",
    "'6.1.3',\n",
    "'2.2.8',\n",
    "'6.2.9',\n",
    "'6.3.10',\n",
    "'2.4.3',\n",
    "'4.3.9',\n",
    "'4.4.10',\n",
    "'4.1.10',\n",
    "'6.1.2',\n",
    "'1.1.2',\n",
    "'4.4.8',\n",
    "'2.3.3',\n",
    "'1.3.3',\n",
    "'2.2.10',\n",
    "'4.4.3',\n",
    "'6.1.8',\n",
    "'2.2.9',\n",
    "'1.1.6',\n",
    "'3.4.3',\n",
    "'1.3.6',\n",
    "'2.2.1',\n",
    "'6.3.4',\n",
    "'1.2.7',\n",
    "'4.4.2',\n",
    "'6.2.3',\n",
    "'4.3.5',\n",
    "'6.3.8',\n",
    "'2.4.9',\n",
    "'2.4.2',\n",
    "'3.1.3',\n",
    "'6.1.5',\n",
    "'1.1.8']\n",
    "all_runs=[x+'_C1_trim' for x in all_runs]"
   ]
  },
  {
   "cell_type": "code",
   "execution_count": 32,
   "id": "00013c5b-7f42-4783-8d78-70bca3e4fa9e",
   "metadata": {},
   "outputs": [],
   "source": [
    "# https://github.com/mbezdek/extended-event-modeling/blob/main/qualified_valid_.8_.8.txt\n",
    "valid_runs=['1.3.3',\n",
    "'2.2.10',\n",
    "'4.4.3',\n",
    "'6.1.8',\n",
    "'2.2.9',\n",
    "'1.1.6',\n",
    "'3.4.3',\n",
    "'1.3.6',\n",
    "'2.2.1',\n",
    "'6.3.4',\n",
    "'1.2.7',\n",
    "'4.4.2',\n",
    "'6.2.3',\n",
    "'4.3.5',\n",
    "'6.3.8',\n",
    "'2.4.9',\n",
    "'2.4.2',\n",
    "'3.1.3',\n",
    "'6.1.5',\n",
    "'1.1.8']\n",
    "valid_runs=[x+'_C1_trim' for x in valid_runs]"
   ]
  },
  {
   "cell_type": "code",
   "execution_count": 33,
   "id": "3e86f3ce-6524-4879-8cfa-ae94871e060e",
   "metadata": {},
   "outputs": [],
   "source": [
    "durdf=pd.DataFrame({'activity':all_runs})"
   ]
  },
  {
   "cell_type": "code",
   "execution_count": 34,
   "id": "9e3e0d39-f081-485d-913a-c3ccefa88e91",
   "metadata": {},
   "outputs": [],
   "source": [
    "durdf['duration'] = [movie_durations[x] for x in durdf['activity']]"
   ]
  },
  {
   "cell_type": "code",
   "execution_count": 35,
   "id": "f4ae8963-9d88-4aea-a57f-d22a80fdf317",
   "metadata": {},
   "outputs": [],
   "source": [
    "durdf['set']=['valid' if x in valid_runs else 'training' for x in durdf['activity']]"
   ]
  },
  {
   "cell_type": "code",
   "execution_count": 36,
   "id": "8c74e1c0-b9bd-4734-9164-5a1620f8bf8b",
   "metadata": {},
   "outputs": [
    {
     "name": "stdout",
     "output_type": "stream",
     "text": [
      "           activity  duration       set\n",
      "0     6.3.1_C1_trim   440.256  training\n",
      "1     3.4.5_C1_trim   438.294  training\n",
      "2     2.4.8_C1_trim   493.654  training\n",
      "3     2.2.2_C1_trim   547.648  training\n",
      "4     1.2.9_C1_trim   684.054  training\n",
      "5     3.1.5_C1_trim   656.406  training\n",
      "6     6.2.4_C1_trim   546.518  training\n",
      "7     3.1.7_C1_trim   680.086  training\n",
      "8     6.3.5_C1_trim   515.670  training\n",
      "9     2.4.4_C1_trim   544.342  training\n",
      "10    1.2.8_C1_trim   548.224  training\n",
      "11    3.1.1_C1_trim   550.358  training\n",
      "12    2.4.6_C1_trim   690.234  training\n",
      "13    1.3.8_C1_trim   558.067  training\n",
      "14    2.3.5_C1_trim   490.902  training\n",
      "15    1.2.3_C1_trim   586.112  training\n",
      "16    3.3.8_C1_trim   700.736  training\n",
      "17   1.1.10_C1_trim   916.438  training\n",
      "18    1.2.4_C1_trim   581.632  training\n",
      "19    4.3.6_C1_trim   617.600  training\n",
      "20    6.3.7_C1_trim   752.832  training\n",
      "21    3.3.9_C1_trim   600.384  training\n",
      "22    6.1.4_C1_trim   851.798  training\n",
      "23    3.3.5_C1_trim   851.200  training\n",
      "24    3.4.2_C1_trim   371.136  training\n",
      "25   3.1.10_C1_trim   586.304  training\n",
      "26   1.3.10_C1_trim   584.896  training\n",
      "27    4.1.7_C1_trim   664.900  training\n",
      "28    1.2.6_C1_trim   675.840  training\n",
      "29    3.3.3_C1_trim   558.592  training\n",
      "30    1.3.9_C1_trim   732.736  training\n",
      "31    3.4.4_C1_trim   347.648  training\n",
      "32    4.4.7_C1_trim   656.790  training\n",
      "33    3.1.8_C1_trim   587.862  training\n",
      "34    4.4.4_C1_trim   412.438  training\n",
      "35    2.3.9_C1_trim   399.446  training\n",
      "36    6.1.7_C1_trim   661.200  training\n",
      "37    2.4.7_C1_trim   420.800  training\n",
      "38    3.4.1_C1_trim   347.286  training\n",
      "39    2.2.3_C1_trim   547.542  training\n",
      "40    6.2.5_C1_trim   409.878  training\n",
      "41    4.3.1_C1_trim   669.824  training\n",
      "42    2.4.1_C1_trim   645.824  training\n",
      "43    3.4.6_C1_trim   501.824  training\n",
      "44    2.3.1_C1_trim   553.686  training\n",
      "45    4.3.2_C1_trim   618.600  training\n",
      "46   2.4.10_C1_trim   469.078  training\n",
      "47    6.2.8_C1_trim   421.967  training\n",
      "48   2.3.10_C1_trim   517.248  training\n",
      "49   3.4.10_C1_trim   597.014  training\n",
      "50    4.3.7_C1_trim   482.048  training\n",
      "51    3.1.9_C1_trim   638.272  training\n",
      "52    3.3.1_C1_trim   627.008  training\n",
      "53    1.1.7_C1_trim   750.467  training\n",
      "54   6.1.10_C1_trim   977.792  training\n",
      "55    3.1.2_C1_trim   689.408  training\n",
      "56    2.3.4_C1_trim   583.190  training\n",
      "57    4.4.1_C1_trim   335.446  training\n",
      "58    6.3.9_C1_trim   679.488  training\n",
      "59    3.4.7_C1_trim   454.784  training\n",
      "60    1.2.1_C1_trim   440.214  training\n",
      "61    4.3.4_C1_trim   602.240  training\n",
      "62    2.2.7_C1_trim   571.734  training\n",
      "63    3.4.9_C1_trim   585.920  training\n",
      "64    4.4.9_C1_trim   589.846  training\n",
      "65    6.1.9_C1_trim   666.432  training\n",
      "66    1.3.1_C1_trim   544.406  training\n",
      "67    4.3.3_C1_trim   493.952  training\n",
      "68    2.3.2_C1_trim   539.776  training\n",
      "69    6.3.3_C1_trim   734.294  training\n",
      "70    2.2.5_C1_trim   560.790  training\n",
      "71    6.1.1_C1_trim   839.958  training\n",
      "72   4.3.10_C1_trim   456.384  training\n",
      "73    2.3.6_C1_trim   630.720  training\n",
      "74    1.3.4_C1_trim   581.739  training\n",
      "75    6.1.6_C1_trim   774.976  training\n",
      "76    4.3.8_C1_trim   509.398  training\n",
      "77    6.3.2_C1_trim   546.560  training\n",
      "78    1.1.3_C1_trim   796.438  training\n",
      "79    4.4.5_C1_trim   582.464  training\n",
      "80    1.1.9_C1_trim   747.264  training\n",
      "81    1.1.1_C1_trim   914.500  training\n",
      "82    3.3.4_C1_trim   488.512  training\n",
      "83    2.2.6_C1_trim   521.686  training\n",
      "84    6.3.6_C1_trim   774.208  training\n",
      "85    2.3.8_C1_trim   582.230  training\n",
      "86    2.4.5_C1_trim   648.448  training\n",
      "87    2.2.4_C1_trim   527.382  training\n",
      "88    1.1.4_C1_trim   728.854  training\n",
      "89    3.1.6_C1_trim   612.758  training\n",
      "90    1.1.5_C1_trim   713.600  training\n",
      "91    3.4.8_C1_trim   441.280  training\n",
      "92    1.3.7_C1_trim   604.566  training\n",
      "93   3.3.10_C1_trim   523.072  training\n",
      "94    4.1.5_C1_trim   514.304  training\n",
      "95    2.3.7_C1_trim   623.830  training\n",
      "96    6.1.3_C1_trim   765.696  training\n",
      "97    2.2.8_C1_trim   564.310  training\n",
      "98    6.2.9_C1_trim   505.238  training\n",
      "99   6.3.10_C1_trim   782.166  training\n",
      "100   2.4.3_C1_trim   645.824  training\n",
      "101   4.3.9_C1_trim   548.032  training\n",
      "102  4.4.10_C1_trim   697.536  training\n",
      "103  4.1.10_C1_trim   665.408  training\n",
      "104   6.1.2_C1_trim   762.400  training\n",
      "105   1.1.2_C1_trim   775.104  training\n",
      "106   4.4.8_C1_trim   632.982  training\n",
      "107   2.3.3_C1_trim   685.206  training\n",
      "108   1.3.3_C1_trim   574.635     valid\n",
      "109  2.2.10_C1_trim   590.336     valid\n",
      "110   4.4.3_C1_trim   752.334     valid\n",
      "111   6.1.8_C1_trim  1156.246     valid\n",
      "112   2.2.9_C1_trim   634.400     valid\n",
      "113   1.1.6_C1_trim   990.294     valid\n",
      "114   3.4.3_C1_trim   493.312     valid\n",
      "115   1.3.6_C1_trim   730.454     valid\n",
      "116   2.2.1_C1_trim   575.296     valid\n",
      "117   6.3.4_C1_trim   649.600     valid\n",
      "118   1.2.7_C1_trim   493.800     valid\n",
      "119   4.4.2_C1_trim   538.816     valid\n",
      "120   6.2.3_C1_trim   479.574     valid\n",
      "121   4.3.5_C1_trim   560.640     valid\n",
      "122   6.3.8_C1_trim   619.478     valid\n",
      "123   2.4.9_C1_trim   566.784     valid\n",
      "124   2.4.2_C1_trim   580.288     valid\n",
      "125   3.1.3_C1_trim   585.984     valid\n",
      "126   6.1.5_C1_trim   796.182     valid\n",
      "127   1.1.8_C1_trim   749.206     valid\n"
     ]
    }
   ],
   "source": [
    "print(durdf.to_string())"
   ]
  },
  {
   "cell_type": "markdown",
   "id": "8dbe61c8-c541-4711-ad02-d52ba980d973",
   "metadata": {},
   "source": [
    "Calculate total performance duration and average duration per activity:"
   ]
  },
  {
   "cell_type": "markdown",
   "id": "febfd0c6-d383-4dc0-b191-778dc95cd977",
   "metadata": {},
   "source": [
    "### ALL RUNS"
   ]
  },
  {
   "cell_type": "code",
   "execution_count": 37,
   "id": "c7f8889f-f99f-4ded-ba9b-88329a72a9af",
   "metadata": {},
   "outputs": [
    {
     "data": {
      "text/plain": [
       "21.71777861111111"
      ]
     },
     "execution_count": 37,
     "metadata": {},
     "output_type": "execute_result"
    }
   ],
   "source": [
    "durdf.duration.sum()/60/60"
   ]
  },
  {
   "cell_type": "code",
   "execution_count": 38,
   "id": "f53c06c0-719c-434e-9b52-704696e2c400",
   "metadata": {},
   "outputs": [
    {
     "data": {
      "text/plain": [
       "43.066716666666665"
      ]
     },
     "execution_count": 38,
     "metadata": {},
     "output_type": "execute_result"
    }
   ],
   "source": [
    "(21.71777861111111-21)*60"
   ]
  },
  {
   "cell_type": "code",
   "execution_count": 40,
   "id": "f75aa251-ccd8-495e-8b62-66ecc94c2070",
   "metadata": {},
   "outputs": [
    {
     "data": {
      "text/plain": [
       "10.180208723958335"
      ]
     },
     "execution_count": 40,
     "metadata": {},
     "output_type": "execute_result"
    }
   ],
   "source": [
    "# Average activity duration\n",
    "(durdf.duration.mean()/60)"
   ]
  },
  {
   "cell_type": "code",
   "execution_count": 41,
   "id": "8413c48f-2ce0-4475-9d7a-bf4efe3b1757",
   "metadata": {},
   "outputs": [
    {
     "data": {
      "text/plain": [
       "10.812523437500126"
      ]
     },
     "execution_count": 41,
     "metadata": {},
     "output_type": "execute_result"
    }
   ],
   "source": [
    "(10.180208723958335-10)*60"
   ]
  },
  {
   "cell_type": "code",
   "execution_count": 42,
   "id": "5888785d-a88d-4995-9ac4-b171c7646d6e",
   "metadata": {},
   "outputs": [
    {
     "data": {
      "text/plain": [
       "5.590766666666667"
      ]
     },
     "execution_count": 42,
     "metadata": {},
     "output_type": "execute_result"
    }
   ],
   "source": [
    "# Minimum activity duration\n",
    "(durdf.duration.min()/60)"
   ]
  },
  {
   "cell_type": "code",
   "execution_count": 43,
   "id": "b14253e1-b046-4bd8-a8c4-e8503df32574",
   "metadata": {},
   "outputs": [
    {
     "data": {
      "text/plain": [
       "35.446000000000026"
      ]
     },
     "execution_count": 43,
     "metadata": {},
     "output_type": "execute_result"
    }
   ],
   "source": [
    "(5.590766666666667-5)*60"
   ]
  },
  {
   "cell_type": "code",
   "execution_count": 44,
   "id": "25f7d3aa-e09f-4a31-9a92-d27f1e507040",
   "metadata": {},
   "outputs": [
    {
     "data": {
      "text/plain": [
       "19.270766666666667"
      ]
     },
     "execution_count": 44,
     "metadata": {},
     "output_type": "execute_result"
    }
   ],
   "source": [
    "# Max activity duration\n",
    "(durdf.duration.max()/60)"
   ]
  },
  {
   "cell_type": "code",
   "execution_count": 45,
   "id": "44bc231e-51f5-41b1-8e0c-1e9049d19821",
   "metadata": {},
   "outputs": [
    {
     "data": {
      "text/plain": [
       "16.24600000000001"
      ]
     },
     "execution_count": 45,
     "metadata": {},
     "output_type": "execute_result"
    }
   ],
   "source": [
    "(19.270766666666667-19)*60"
   ]
  },
  {
   "cell_type": "markdown",
   "id": "9126b60e-9f2c-4bec-8970-27576cfc44bb",
   "metadata": {},
   "source": [
    "Total duration of all runs is about 21 hours, 43 minutes. Mean duration per activity is about 10 minutes, 11 seconds."
   ]
  },
  {
   "cell_type": "markdown",
   "id": "c6742b70-dffc-49dd-b2df-04ea8415b451",
   "metadata": {},
   "source": [
    "### TRAINING"
   ]
  },
  {
   "cell_type": "code",
   "execution_count": 46,
   "id": "dbfccb14-b6c8-469e-ac8c-4c803c9da4b3",
   "metadata": {},
   "outputs": [
    {
     "data": {
      "text/plain": [
       "18.073984444444445"
      ]
     },
     "execution_count": 46,
     "metadata": {},
     "output_type": "execute_result"
    }
   ],
   "source": [
    "durdf['duration'][durdf['set']=='training'].sum()/60/60"
   ]
  },
  {
   "cell_type": "code",
   "execution_count": 47,
   "id": "a1d40bd1-46d8-421f-aa9e-0f21ba555ea6",
   "metadata": {},
   "outputs": [
    {
     "data": {
      "text/plain": [
       "4.4390666666667045"
      ]
     },
     "execution_count": 47,
     "metadata": {},
     "output_type": "execute_result"
    }
   ],
   "source": [
    "((18.073984444444445)-18)*60"
   ]
  },
  {
   "cell_type": "markdown",
   "id": "224a2da9-5d96-4821-a763-d8125f1b6875",
   "metadata": {},
   "source": [
    "Total duration of training runs is about 18 hours, 4 minutes."
   ]
  },
  {
   "cell_type": "markdown",
   "id": "0dcfaea2-a5de-4b8d-a6d3-a6f21481ae50",
   "metadata": {},
   "source": [
    "### VALIDATION"
   ]
  },
  {
   "cell_type": "code",
   "execution_count": 48,
   "id": "12b90e94-9107-4ed0-b30e-6000c9ae9e8f",
   "metadata": {},
   "outputs": [
    {
     "data": {
      "text/plain": [
       "3.643794166666667"
      ]
     },
     "execution_count": 48,
     "metadata": {},
     "output_type": "execute_result"
    }
   ],
   "source": [
    "durdf['duration'][durdf['set']=='valid'].sum()/60/60"
   ]
  },
  {
   "cell_type": "code",
   "execution_count": 49,
   "id": "a65e8cfc-b42b-4a41-9910-06f92fdbc523",
   "metadata": {},
   "outputs": [
    {
     "data": {
      "text/plain": [
       "38.62765000000002"
      ]
     },
     "execution_count": 49,
     "metadata": {},
     "output_type": "execute_result"
    }
   ],
   "source": [
    "(3.643794166666667-3)*60"
   ]
  },
  {
   "cell_type": "markdown",
   "id": "f76d4971-fdd2-44c0-8a35-a4a4e59b6fe2",
   "metadata": {},
   "source": [
    "Total duration of validation runs is about 3 hours, 39 minutes."
   ]
  },
  {
   "cell_type": "code",
   "execution_count": 51,
   "id": "9dd5e982-26f4-454f-ba50-eea7600a8b51",
   "metadata": {},
   "outputs": [
    {
     "data": {
      "text/plain": [
       "['1.1.10_C1_trim',\n",
       " '1.1.1_C1_trim',\n",
       " '1.1.2_C1_trim',\n",
       " '1.1.3_C1_trim',\n",
       " '1.1.4_C1_trim',\n",
       " '1.1.5_C1_trim',\n",
       " '1.1.6_C1_trim',\n",
       " '1.1.7_C1_trim',\n",
       " '1.1.8_C1_trim',\n",
       " '1.1.9_C1_trim',\n",
       " '1.2.1_C1_trim',\n",
       " '1.2.3_C1_trim',\n",
       " '1.2.4_C1_trim',\n",
       " '1.2.6_C1_trim',\n",
       " '1.2.7_C1_trim',\n",
       " '1.2.8_C1_trim',\n",
       " '1.2.9_C1_trim',\n",
       " '1.3.10_C1_trim',\n",
       " '1.3.1_C1_trim',\n",
       " '1.3.3_C1_trim',\n",
       " '1.3.4_C1_trim',\n",
       " '1.3.6_C1_trim',\n",
       " '1.3.7_C1_trim',\n",
       " '1.3.8_C1_trim',\n",
       " '1.3.9_C1_trim',\n",
       " '2.2.10_C1_trim',\n",
       " '2.2.1_C1_trim',\n",
       " '2.2.2_C1_trim',\n",
       " '2.2.3_C1_trim',\n",
       " '2.2.4_C1_trim',\n",
       " '2.2.5_C1_trim',\n",
       " '2.2.6_C1_trim',\n",
       " '2.2.7_C1_trim',\n",
       " '2.2.8_C1_trim',\n",
       " '2.2.9_C1_trim',\n",
       " '2.3.10_C1_trim',\n",
       " '2.3.1_C1_trim',\n",
       " '2.3.2_C1_trim',\n",
       " '2.3.3_C1_trim',\n",
       " '2.3.4_C1_trim',\n",
       " '2.3.5_C1_trim',\n",
       " '2.3.6_C1_trim',\n",
       " '2.3.7_C1_trim',\n",
       " '2.3.8_C1_trim',\n",
       " '2.3.9_C1_trim',\n",
       " '2.4.10_C1_trim',\n",
       " '2.4.1_C1_trim',\n",
       " '2.4.2_C1_trim',\n",
       " '2.4.3_C1_trim',\n",
       " '2.4.4_C1_trim',\n",
       " '2.4.5_C1_trim',\n",
       " '2.4.6_C1_trim',\n",
       " '2.4.7_C1_trim',\n",
       " '2.4.8_C1_trim',\n",
       " '2.4.9_C1_trim',\n",
       " '3.1.10_C1_trim',\n",
       " '3.1.1_C1_trim',\n",
       " '3.1.2_C1_trim',\n",
       " '3.1.3_C1_trim',\n",
       " '3.1.5_C1_trim',\n",
       " '3.1.6_C1_trim',\n",
       " '3.1.7_C1_trim',\n",
       " '3.1.8_C1_trim',\n",
       " '3.1.9_C1_trim',\n",
       " '3.3.10_C1_trim',\n",
       " '3.3.1_C1_trim',\n",
       " '3.3.3_C1_trim',\n",
       " '3.3.4_C1_trim',\n",
       " '3.3.5_C1_trim',\n",
       " '3.3.8_C1_trim',\n",
       " '3.3.9_C1_trim',\n",
       " '3.4.10_C1_trim',\n",
       " '3.4.1_C1_trim',\n",
       " '3.4.2_C1_trim',\n",
       " '3.4.3_C1_trim',\n",
       " '3.4.4_C1_trim',\n",
       " '3.4.5_C1_trim',\n",
       " '3.4.6_C1_trim',\n",
       " '3.4.7_C1_trim',\n",
       " '3.4.8_C1_trim',\n",
       " '3.4.9_C1_trim',\n",
       " '4.1.10_C1_trim',\n",
       " '4.1.5_C1_trim',\n",
       " '4.1.7_C1_trim',\n",
       " '4.3.10_C1_trim',\n",
       " '4.3.1_C1_trim',\n",
       " '4.3.2_C1_trim',\n",
       " '4.3.3_C1_trim',\n",
       " '4.3.4_C1_trim',\n",
       " '4.3.5_C1_trim',\n",
       " '4.3.6_C1_trim',\n",
       " '4.3.7_C1_trim',\n",
       " '4.3.8_C1_trim',\n",
       " '4.3.9_C1_trim',\n",
       " '4.4.10_C1_trim',\n",
       " '4.4.1_C1_trim',\n",
       " '4.4.2_C1_trim',\n",
       " '4.4.3_C1_trim',\n",
       " '4.4.4_C1_trim',\n",
       " '4.4.5_C1_trim',\n",
       " '4.4.7_C1_trim',\n",
       " '4.4.8_C1_trim',\n",
       " '4.4.9_C1_trim',\n",
       " '6.1.10_C1_trim',\n",
       " '6.1.1_C1_trim',\n",
       " '6.1.2_C1_trim',\n",
       " '6.1.3_C1_trim',\n",
       " '6.1.4_C1_trim',\n",
       " '6.1.5_C1_trim',\n",
       " '6.1.6_C1_trim',\n",
       " '6.1.7_C1_trim',\n",
       " '6.1.8_C1_trim',\n",
       " '6.1.9_C1_trim',\n",
       " '6.2.3_C1_trim',\n",
       " '6.2.4_C1_trim',\n",
       " '6.2.5_C1_trim',\n",
       " '6.2.8_C1_trim',\n",
       " '6.2.9_C1_trim',\n",
       " '6.3.10_C1_trim',\n",
       " '6.3.1_C1_trim',\n",
       " '6.3.2_C1_trim',\n",
       " '6.3.3_C1_trim',\n",
       " '6.3.4_C1_trim',\n",
       " '6.3.5_C1_trim',\n",
       " '6.3.6_C1_trim',\n",
       " '6.3.7_C1_trim',\n",
       " '6.3.8_C1_trim',\n",
       " '6.3.9_C1_trim']"
      ]
     },
     "execution_count": 51,
     "metadata": {},
     "output_type": "execute_result"
    }
   ],
   "source": [
    "sorted(all_runs)"
   ]
  },
  {
   "cell_type": "code",
   "execution_count": 52,
   "id": "f48086eb-3f9d-4dc3-8ca9-b6ca14c774cd",
   "metadata": {},
   "outputs": [
    {
     "data": {
      "text/plain": [
       "128"
      ]
     },
     "execution_count": 52,
     "metadata": {},
     "output_type": "execute_result"
    }
   ],
   "source": [
    "len(all_runs)"
   ]
  },
  {
   "cell_type": "code",
   "execution_count": null,
   "id": "1e273927-bbea-474f-9338-9519e8c1dc80",
   "metadata": {},
   "outputs": [],
   "source": []
  }
 ],
 "metadata": {
  "kernelspec": {
   "display_name": "Python 3 (ipykernel)",
   "language": "python",
   "name": "python3"
  },
  "language_info": {
   "codemirror_mode": {
    "name": "ipython",
    "version": 3
   },
   "file_extension": ".py",
   "mimetype": "text/x-python",
   "name": "python",
   "nbconvert_exporter": "python",
   "pygments_lexer": "ipython3",
   "version": "3.9.7"
  }
 },
 "nbformat": 4,
 "nbformat_minor": 5
}
