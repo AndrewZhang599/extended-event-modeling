{
 "cells": [
  {
   "cell_type": "markdown",
   "id": "14e65c34-9a96-4515-8ebb-84f2eef317f3",
   "metadata": {},
   "source": [
    "# Computing PE for last scene and recent scene models"
   ]
  },
  {
   "cell_type": "code",
   "execution_count": 1,
   "id": "e85fc158-4b13-4b61-9305-12a5ae52510d",
   "metadata": {},
   "outputs": [],
   "source": [
    "import numpy as np\n",
    "import pandas as pd\n",
    "import scipy.stats as st\n",
    "import pickle as pkl\n",
    "from glob import glob\n",
    "from tqdm import tqdm\n",
    "import sys\n"
   ]
  },
  {
   "cell_type": "code",
   "execution_count": 2,
   "id": "ee2652e9-cd49-47a4-b15f-10e54d87bb43",
   "metadata": {},
   "outputs": [],
   "source": [
    "# https://github.com/mbezdek/extended-event-modeling/blob/main/qualified_valid_.8_.8.txt\n",
    "valid_runs=['1.3.3',\n",
    "'2.2.10',\n",
    "'4.4.3',\n",
    "'6.1.8',\n",
    "'2.2.9',\n",
    "'1.1.6',\n",
    "'3.4.3',\n",
    "'1.3.6',\n",
    "'2.2.1',\n",
    "'6.3.4',\n",
    "'1.2.7',\n",
    "'4.4.2',\n",
    "'6.2.3',\n",
    "'4.3.5',\n",
    "'6.3.8',\n",
    "'2.4.9',\n",
    "'2.4.2',\n",
    "'3.1.3',\n",
    "'6.1.5',\n",
    "'1.1.8']\n",
    "\n",
    "#cache_tag='april_04_grid_lr1E-03_alfa1E-01_lmda1E+05'\n",
    "cache_tag='july_18_full_.8_.8_1070_1E-03_1E-01_1E+07'"
   ]
  },
  {
   "cell_type": "code",
   "execution_count": 3,
   "id": "bf89cfaa-cfa6-4744-89ab-0b21095b6c54",
   "metadata": {},
   "outputs": [],
   "source": [
    "def compute_change_models(runs):    \n",
    "    # build a dataframe of active SEM models and high-level event annotations\n",
    "    inputdf=pd.DataFrame()\n",
    "    # Combine PE for all timepoints\n",
    "    pe_last_df=pd.DataFrame()\n",
    "    pe_recent_df=pd.DataFrame()\n",
    "    # Average PE for each run separately, this matches the SEM calculation averaging by run first\n",
    "    pe_last_run_df=pd.DataFrame(columns=['pe','run'])\n",
    "    pe_recent_run_df=pd.DataFrame(columns=['pe','run'])\n",
    "    for run in tqdm(runs):\n",
    "        input_file=glob(f'output/run_sem/{cache_tag}/{run}_kinect_trim{cache_tag}_inputdf_*.pkl')[0]\n",
    "        input_dataframes = pkl.load(open(input_file, 'rb'))\n",
    "        tempdf=input_dataframes.x_train_pca\n",
    "        # Compute pe, predicting current scene from 'last scene':\n",
    "        pe = np.linalg.norm(tempdf.shift(1)-tempdf,axis=1)      \n",
    "        temp_pe_df = pd.DataFrame({'pe':pe,'run':run})\n",
    "        pe_last_df = pd.concat([pe_last_df,temp_pe_df],ignore_index=True)\n",
    "        pe_last_run_df = pd.concat([pe_last_run_df,pd.DataFrame({'pe':[pe_last_df['pe'].mean()],'run':run})],ignore_index=True)\n",
    "        # Compute pe, predicting current from average of n 'recent scenes':\n",
    "        pe = np.linalg.norm(tempdf - ((tempdf.shift(1)+tempdf.shift(2)+tempdf.shift(3))/3), axis=1)\n",
    "        temp_pe_df = pd.DataFrame({'pe':pe,'run':run})\n",
    "        pe_recent_df = pd.concat([pe_recent_df,temp_pe_df],ignore_index=True)\n",
    "        pe_recent_run_df = pd.concat([pe_recent_run_df,pd.DataFrame({'pe':[pe_recent_df['pe'].mean()],'run':run})],ignore_index=True)\n",
    "        # save inputdf pca:\n",
    "        tempdf['run'] = run\n",
    "        inputdf=pd.concat([inputdf,tempdf],ignore_index=True)\n",
    "    \n",
    "    return inputdf,pe_last_df,pe_recent_df,pe_last_run_df,pe_recent_run_df"
   ]
  },
  {
   "cell_type": "code",
   "execution_count": 4,
   "id": "9705a9b2-e1e7-4a48-8880-9c7ed10a3bbc",
   "metadata": {},
   "outputs": [
    {
     "name": "stderr",
     "output_type": "stream",
     "text": [
      "100%|███████████████████████████████████████████| 20/20 [00:00<00:00, 37.40it/s]\n"
     ]
    }
   ],
   "source": [
    "inputdf,pe_last_df,pe_recent_df,pe_last_run_df,pe_recent_run_df = compute_change_models(valid_runs)"
   ]
  },
  {
   "cell_type": "markdown",
   "id": "2a26dc44-e7ef-4fb9-acc0-22e7c390b191",
   "metadata": {},
   "source": [
    "# Compute mean and 95 percent confidence interval"
   ]
  },
  {
   "cell_type": "code",
   "execution_count": 5,
   "id": "63d5a3bd-7794-4e82-9149-bcadabf15bc6",
   "metadata": {},
   "outputs": [
    {
     "name": "stdout",
     "output_type": "stream",
     "text": [
      "Last scene model mean is 1.988403749399147, 95 percent CI = (1.9265505277364483, 2.0502569710618457)\n"
     ]
    }
   ],
   "source": [
    "m = pe_last_run_df['pe'].mean()\n",
    "a = pe_last_run_df['pe']\n",
    "ci = st.t.interval(0.95, len(a)-1, loc=np.mean(a), scale=st.sem(a))\n",
    "print(f'Last scene model mean is {m}, 95 percent CI = {ci}')"
   ]
  },
  {
   "cell_type": "code",
   "execution_count": 6,
   "id": "c571cb27-cb13-49df-8d34-c1bb9baf3af8",
   "metadata": {},
   "outputs": [
    {
     "name": "stdout",
     "output_type": "stream",
     "text": [
      "Recent scenes model mean is 2.2253720333920217, 95 percent CI = (2.168199644947134, 2.2825444218369095)\n"
     ]
    }
   ],
   "source": [
    "m = pe_recent_run_df['pe'].mean()\n",
    "a = pe_recent_run_df['pe']\n",
    "ci = st.t.interval(0.95, len(a)-1, loc=np.mean(a), scale=st.sem(a))\n",
    "print(f'Recent scenes model mean is {m}, 95 percent CI = {ci}')"
   ]
  },
  {
   "cell_type": "code",
   "execution_count": null,
   "id": "ec9b93f0-5747-423a-a9a1-8ccdeb8d56cb",
   "metadata": {},
   "outputs": [],
   "source": []
  }
 ],
 "metadata": {
  "kernelspec": {
   "display_name": "Python 3 (ipykernel)",
   "language": "python",
   "name": "python3"
  },
  "language_info": {
   "codemirror_mode": {
    "name": "ipython",
    "version": 3
   },
   "file_extension": ".py",
   "mimetype": "text/x-python",
   "name": "python",
   "nbconvert_exporter": "python",
   "pygments_lexer": "ipython3",
   "version": "3.9.7"
  }
 },
 "nbformat": 4,
 "nbformat_minor": 5
}
