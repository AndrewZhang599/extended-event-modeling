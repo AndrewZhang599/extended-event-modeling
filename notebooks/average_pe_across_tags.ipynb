{
 "cells": [
  {
   "cell_type": "markdown",
   "source": [
    "## Importing"
   ],
   "metadata": {
    "collapsed": false
   }
  },
  {
   "cell_type": "code",
   "execution_count": null,
   "outputs": [],
   "source": [
    "## %cd /Users/bezdek/Box/DCL_ARCHIVE/Documents/Events/exp148_Corpus/viz\n",
    "\n",
    "import pickle as pkl\n",
    "import pandas as pd\n",
    "import numpy as np\n",
    "\n",
    "# For panel visualizations:\n",
    "import panel as pn\n",
    "#import param\n",
    "# For displaying images:\n",
    "import cv2\n",
    "from IPython.display import clear_output, Image, display, HTML\n",
    "from scipy.spatial.distance import cosine\n",
    "from scipy.ndimage import gaussian_filter1d\n",
    "from glob import glob\n",
    "import os\n",
    "import sys\n",
    "import matplotlib\n",
    "\n",
    "matplotlib.use('agg')\n",
    "import matplotlib.pyplot as plt\n",
    "from mpl_toolkits.mplot3d import Axes3D\n",
    "#from scipy.stats import zscore\n",
    "from sklearn.preprocessing import StandardScaler\n",
    "from sklearn.decomposition import PCA\n",
    "from copy import deepcopy\n",
    "#from run_sem_with_features import preprocess_skel\n",
    "import joblib\n",
    "from utils import get_point_biserial, get_binned_prediction\n",
    "from utils import contain_substr\n",
    "import seaborn as sns\n",
    "\n",
    "pn.extension()\n"
   ],
   "metadata": {
    "collapsed": false,
    "pycharm": {
     "name": "#%%\n"
    }
   }
  },
  {
   "cell_type": "markdown",
   "source": [
    "### Initialize Variables and Widgets"
   ],
   "metadata": {
    "collapsed": false
   }
  },
  {
   "cell_type": "code",
   "execution_count": null,
   "outputs": [],
   "source": [
    "\n",
    "df = pd.read_csv('output/run_sem/results_corpus_entropy.csv')\n",
    "df = df[~df['tag'].isna()]\n",
    "\n",
    "df['chapter'] = df['run'].apply(lambda x: int(x[2]))\n",
    "df['entropy_abs'] = df['entropy'] * np.log(df['n_event_models'])\n",
    "df['config'] = df['tag'].apply(lambda tag: tag[:tag.find('grid')])\n",
    "# df['number_boundaries'] = df['number_boundaries'].clip(upper=150)\n",
    "\n",
    "available_tags = list(df['tag'].unique())\n",
    "available_tags = sorted([x for x in available_tags if ('june' in x or 'july' in x)])\n",
    "default_tag = available_tags[0]\n",
    "available_metrics = sorted(list(df.columns))\n",
    "default_metric = ['mean_pe', 'percentile', 'pearson_r', 'number_boundaries', 'epoch', 'n_event_models', 'active_event_models',\n",
    "                  'entropy']\n",
    "available_runs = sorted(list(df['run'].unique()))\n",
    "default_run = available_runs\n",
    "available_train_runs = list(df[(df['is_train'] == True)]['run'].unique())\n",
    "default_train_run = available_train_runs\n",
    "available_valid_runs = list(df[(df['is_train'] == False)]['run'].unique())\n",
    "default_valid_run = available_valid_runs\n",
    "\n",
    "multi_tag_select = pn.widgets.MultiSelect(name='Select 2 or 3 Tags for Comparison', value=[default_tag], options=available_tags,\n",
    "                                          height=100)\n",
    "multi_metric_select = pn.widgets.MultiSelect(name='Select Metrics to Visualize', value=default_metric, options=available_metrics,\n",
    "                                             height=100)\n",
    "multi_run_select = pn.widgets.MultiSelect(name='Select Runs to Visualize', value=default_run, options=available_runs,\n",
    "                                          height=100)\n",
    "multi_train_run_select = pn.widgets.MultiSelect(name='Select train_runs to Visualize', value=default_train_run,\n",
    "                                                options=available_train_runs,\n",
    "                                                height=100)\n",
    "multi_valid_run_select = pn.widgets.MultiSelect(name='Select valid_runs to Visualize', value=default_valid_run,\n",
    "                                                options=available_valid_runs,\n",
    "                                                height=100)\n",
    "\n",
    "train_checkbox = pn.widgets.Checkbox(name='Display Train?', value=True)\n",
    "valid_checkbox = pn.widgets.Checkbox(name='Display Valid?', value=False)\n",
    "compare_config = pn.widgets.Checkbox(name='Compare Configs?', value=False)\n",
    "\n",
    "hues = ['tag', 'chapter', 'run', 'config', 'is_train']\n",
    "hue_select = pn.widgets.Select(name='Select Hue', options=hues, value='tag')"
   ],
   "metadata": {
    "collapsed": false,
    "pycharm": {
     "name": "#%%\n"
    }
   }
  }
 ],
 "metadata": {
  "kernelspec": {
   "display_name": "Python 3",
   "language": "python",
   "name": "python3"
  },
  "language_info": {
   "codemirror_mode": {
    "name": "ipython",
    "version": 2
   },
   "file_extension": ".py",
   "mimetype": "text/x-python",
   "name": "python",
   "nbconvert_exporter": "python",
   "pygments_lexer": "ipython2",
   "version": "2.7.6"
  }
 },
 "nbformat": 4,
 "nbformat_minor": 0
}