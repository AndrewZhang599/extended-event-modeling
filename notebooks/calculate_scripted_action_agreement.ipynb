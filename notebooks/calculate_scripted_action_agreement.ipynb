{
 "cells": [
  {
   "cell_type": "markdown",
   "id": "b9ffa635-430e-4f87-94b2-15e86a82df1d",
   "metadata": {},
   "source": [
    "# Calculate scripted action annotation agreement"
   ]
  },
  {
   "cell_type": "code",
   "execution_count": 25,
   "id": "d01e98d7-b969-4371-b1de-92400c91cba7",
   "metadata": {},
   "outputs": [],
   "source": [
    "import pandas as pd\n",
    "import numpy as np\n",
    "import matplotlib.pyplot as plt\n",
    "import seaborn as sns"
   ]
  },
  {
   "cell_type": "markdown",
   "id": "a38a94e6-cd21-45fd-8888-8e70910f0489",
   "metadata": {},
   "source": [
    "# Load spreadsheets from MS and VN"
   ]
  },
  {
   "cell_type": "code",
   "execution_count": 26,
   "id": "7facca8f-afc7-445c-8eb6-5a4af0a8f3ad",
   "metadata": {},
   "outputs": [],
   "source": [
    "\n",
    "df_MS = pd.read_csv('event_annotation_timing_MS.csv')\n",
    "df_VN = pd.read_excel('event_annotation_timing_VN.xlsx') \n"
   ]
  },
  {
   "cell_type": "code",
   "execution_count": 29,
   "id": "09ab046f-7645-43c8-b1bd-ebe65c92fcee",
   "metadata": {},
   "outputs": [],
   "source": [
    "# Convert to seconds\n",
    "df_VN['startsec'] = df_VN['start_millisec']/1000\n",
    "df_VN['endsec'] = df_VN['end_millisec']/1000"
   ]
  },
  {
   "cell_type": "code",
   "execution_count": 30,
   "id": "58df6e42-eb2d-4aab-b16b-32d0a7577b14",
   "metadata": {},
   "outputs": [],
   "source": [
    "df_VN['instance'] = df_VN['run'] + '_' + df_VN['evnum'].map(str)\n",
    "df_MS['instance'] = df_MS['run'] + '_' + df_MS['evnum'].map(str)"
   ]
  },
  {
   "cell_type": "code",
   "execution_count": 31,
   "id": "814b5ee5-a866-4113-b57c-12114de319d1",
   "metadata": {},
   "outputs": [
    {
     "name": "stdout",
     "output_type": "stream",
     "text": [
      "New set of scripted action annotations is 100.0 percent complete\n"
     ]
    }
   ],
   "source": [
    "print(f'New set of scripted action annotations is {100 * len(df_VN.dropna())/len(df_VN)} percent complete')"
   ]
  },
  {
   "cell_type": "markdown",
   "id": "f99fbff3-ef5d-45d3-9d1d-056ddf28fbfa",
   "metadata": {},
   "source": [
    "# Compute differences in start and end times for each action"
   ]
  },
  {
   "cell_type": "code",
   "execution_count": 32,
   "id": "4d1a79da-6982-4ce6-83b3-2030c16945ce",
   "metadata": {},
   "outputs": [],
   "source": [
    "# Compute differences in start and end times for each action\n",
    "df_VN['start_diff']=np.nan\n",
    "df_VN['end_diff']=np.nan"
   ]
  },
  {
   "cell_type": "code",
   "execution_count": 33,
   "id": "fe6f6cb9-b025-45b6-a2eb-1c4b08bd6b21",
   "metadata": {},
   "outputs": [],
   "source": [
    "for instance in df_VN['instance']:\n",
    "    df_VN.loc[df_VN['instance']==instance, 'start_diff'] = (df_VN.loc[df_VN['instance']==instance, 'startsec'].values - df_MS.loc[df_MS['instance']==instance, 'startsec'].values)[0]\n",
    "    df_VN.loc[df_VN['instance']==instance, 'end_diff'] = (df_VN.loc[df_VN['instance']==instance, 'endsec'].values - df_MS.loc[df_MS['instance']==instance, 'endsec'].values)[0]"
   ]
  },
  {
   "cell_type": "markdown",
   "id": "e8c0d6d3-afab-4f48-ae5b-2fd76a7adfe7",
   "metadata": {},
   "source": [
    "# Plot density plot of start and end differences:"
   ]
  },
  {
   "cell_type": "code",
   "execution_count": 35,
   "id": "72918820-f001-4a6d-8a11-89d9d004a6c7",
   "metadata": {},
   "outputs": [
    {
     "name": "stderr",
     "output_type": "stream",
     "text": [
      "/Users/bezdek/opt/anaconda3/lib/python3.9/site-packages/seaborn/distributions.py:2619: FutureWarning: `distplot` is a deprecated function and will be removed in a future version. Please adapt your code to use either `displot` (a figure-level function with similar flexibility) or `histplot` (an axes-level function for histograms).\n",
      "  warnings.warn(msg, FutureWarning)\n",
      "/Users/bezdek/opt/anaconda3/lib/python3.9/site-packages/seaborn/distributions.py:1699: FutureWarning: The `bw` parameter is deprecated in favor of `bw_method` and `bw_adjust`. Using 0.05 for `bw_method`, but please see the docs for the new parameters and update your code.\n",
      "  warnings.warn(msg, FutureWarning)\n",
      "/Users/bezdek/opt/anaconda3/lib/python3.9/site-packages/seaborn/distributions.py:2619: FutureWarning: `distplot` is a deprecated function and will be removed in a future version. Please adapt your code to use either `displot` (a figure-level function with similar flexibility) or `histplot` (an axes-level function for histograms).\n",
      "  warnings.warn(msg, FutureWarning)\n",
      "/Users/bezdek/opt/anaconda3/lib/python3.9/site-packages/seaborn/distributions.py:1699: FutureWarning: The `bw` parameter is deprecated in favor of `bw_method` and `bw_adjust`. Using 0.05 for `bw_method`, but please see the docs for the new parameters and update your code.\n",
      "  warnings.warn(msg, FutureWarning)\n"
     ]
    },
    {
     "data": {
      "text/plain": [
       "<matplotlib.legend.Legend at 0x7fbf60e31ee0>"
      ]
     },
     "execution_count": 35,
     "metadata": {},
     "output_type": "execute_result"
    },
    {
     "data": {
      "image/png": "[encoded data removed]",
      "text/plain": [
       "<Figure size 432x288 with 1 Axes>"
      ]
     },
     "metadata": {
      "needs_background": "light"
     },
     "output_type": "display_data"
    }
   ],
   "source": [
    "\n",
    "bins = np.linspace(0,10,50)\n",
    "sns.distplot(df_VN['start_diff'].abs(),label='start offset',bins=bins,kde_kws={'bw':0.05})\n",
    "sns.distplot(df_VN['end_diff'].abs(),label='end offset',bins=bins,kde_kws={'bw':0.05})\n",
    "plt.legend()\n",
    "#plt.xlim((-1,25))"
   ]
  },
  {
   "cell_type": "markdown",
   "id": "9c2c54fb-f276-4b47-a471-393e355d13a4",
   "metadata": {},
   "source": [
    "# Generate stats, check extreme values"
   ]
  },
  {
   "cell_type": "code",
   "execution_count": 36,
   "id": "f5a14603-ba34-4f99-b264-48861551b110",
   "metadata": {},
   "outputs": [
    {
     "data": {
      "text/plain": [
       "-48.04899999999999"
      ]
     },
     "execution_count": 36,
     "metadata": {},
     "output_type": "execute_result"
    }
   ],
   "source": [
    "df_VN['start_diff'].min()"
   ]
  },
  {
   "cell_type": "code",
   "execution_count": 37,
   "id": "6a8ed5ce-7662-4e1c-a80f-408b70969aa6",
   "metadata": {},
   "outputs": [
    {
     "data": {
      "text/plain": [
       "-65.825"
      ]
     },
     "execution_count": 37,
     "metadata": {},
     "output_type": "execute_result"
    }
   ],
   "source": [
    "df_VN['end_diff'].min()"
   ]
  },
  {
   "cell_type": "code",
   "execution_count": 38,
   "id": "2d3ecb4d-dc14-4618-bb50-b28f188c864d",
   "metadata": {},
   "outputs": [
    {
     "data": {
      "text/html": [
       "<div>\n",
       "<style scoped>\n",
       "    .dataframe tbody tr th:only-of-type {\n",
       "        vertical-align: middle;\n",
       "    }\n",
       "\n",
       "    .dataframe tbody tr th {\n",
       "        vertical-align: top;\n",
       "    }\n",
       "\n",
       "    .dataframe thead th {\n",
       "        text-align: right;\n",
       "    }\n",
       "</style>\n",
       "<table border=\"1\" class=\"dataframe\">\n",
       "  <thead>\n",
       "    <tr style=\"text-align: right;\">\n",
       "      <th></th>\n",
       "      <th>run</th>\n",
       "      <th>evnum</th>\n",
       "      <th>evname</th>\n",
       "      <th>start_millisec</th>\n",
       "      <th>end_millisec</th>\n",
       "      <th>startsec</th>\n",
       "      <th>endsec</th>\n",
       "      <th>instance</th>\n",
       "      <th>start_diff</th>\n",
       "      <th>end_diff</th>\n",
       "    </tr>\n",
       "  </thead>\n",
       "  <tbody>\n",
       "    <tr>\n",
       "      <th>212</th>\n",
       "      <td>2.2.1</td>\n",
       "      <td>3</td>\n",
       "      <td>bicep_curls</td>\n",
       "      <td>103925</td>\n",
       "      <td>256655</td>\n",
       "      <td>103.925</td>\n",
       "      <td>256.655</td>\n",
       "      <td>2.2.1_3</td>\n",
       "      <td>-48.049</td>\n",
       "      <td>-1.439</td>\n",
       "    </tr>\n",
       "    <tr>\n",
       "      <th>220</th>\n",
       "      <td>2.2.2</td>\n",
       "      <td>4</td>\n",
       "      <td>do_stair_steps</td>\n",
       "      <td>274561</td>\n",
       "      <td>383084</td>\n",
       "      <td>274.561</td>\n",
       "      <td>383.084</td>\n",
       "      <td>2.2.2_4</td>\n",
       "      <td>-27.994</td>\n",
       "      <td>-2.791</td>\n",
       "    </tr>\n",
       "  </tbody>\n",
       "</table>\n",
       "</div>"
      ],
      "text/plain": [
       "       run  evnum          evname  start_millisec  end_millisec  startsec  \\\n",
       "212  2.2.1      3     bicep_curls          103925        256655   103.925   \n",
       "220  2.2.2      4  do_stair_steps          274561        383084   274.561   \n",
       "\n",
       "      endsec instance  start_diff  end_diff  \n",
       "212  256.655  2.2.1_3     -48.049    -1.439  \n",
       "220  383.084  2.2.2_4     -27.994    -2.791  "
      ]
     },
     "execution_count": 38,
     "metadata": {},
     "output_type": "execute_result"
    }
   ],
   "source": [
    "df_VN[df_VN['start_diff'] < -25]"
   ]
  },
  {
   "cell_type": "code",
   "execution_count": 39,
   "id": "021dceac-bfa8-4352-bd45-57c64298a0db",
   "metadata": {},
   "outputs": [
    {
     "data": {
      "text/html": [
       "<div>\n",
       "<style scoped>\n",
       "    .dataframe tbody tr th:only-of-type {\n",
       "        vertical-align: middle;\n",
       "    }\n",
       "\n",
       "    .dataframe tbody tr th {\n",
       "        vertical-align: top;\n",
       "    }\n",
       "\n",
       "    .dataframe thead th {\n",
       "        text-align: right;\n",
       "    }\n",
       "</style>\n",
       "<table border=\"1\" class=\"dataframe\">\n",
       "  <thead>\n",
       "    <tr style=\"text-align: right;\">\n",
       "      <th></th>\n",
       "      <th>run</th>\n",
       "      <th>evnum</th>\n",
       "      <th>evname</th>\n",
       "      <th>start_millisec</th>\n",
       "      <th>end_millisec</th>\n",
       "      <th>startsec</th>\n",
       "      <th>endsec</th>\n",
       "      <th>instance</th>\n",
       "      <th>start_diff</th>\n",
       "      <th>end_diff</th>\n",
       "    </tr>\n",
       "  </thead>\n",
       "  <tbody>\n",
       "    <tr>\n",
       "      <th>211</th>\n",
       "      <td>2.2.1</td>\n",
       "      <td>2</td>\n",
       "      <td>shoulder_press</td>\n",
       "      <td>49219</td>\n",
       "      <td>83135</td>\n",
       "      <td>49.219</td>\n",
       "      <td>83.135</td>\n",
       "      <td>2.2.1_2</td>\n",
       "      <td>2.583</td>\n",
       "      <td>-65.825</td>\n",
       "    </tr>\n",
       "  </tbody>\n",
       "</table>\n",
       "</div>"
      ],
      "text/plain": [
       "       run  evnum          evname  start_millisec  end_millisec  startsec  \\\n",
       "211  2.2.1      2  shoulder_press           49219         83135    49.219   \n",
       "\n",
       "     endsec instance  start_diff  end_diff  \n",
       "211  83.135  2.2.1_2       2.583   -65.825  "
      ]
     },
     "execution_count": 39,
     "metadata": {},
     "output_type": "execute_result"
    }
   ],
   "source": [
    "df_VN[df_VN['end_diff'] < -25]"
   ]
  },
  {
   "cell_type": "code",
   "execution_count": 40,
   "id": "ef669f3c-5069-4cd0-9f09-d57aeb2f7ed8",
   "metadata": {},
   "outputs": [
    {
     "data": {
      "text/html": [
       "<div>\n",
       "<style scoped>\n",
       "    .dataframe tbody tr th:only-of-type {\n",
       "        vertical-align: middle;\n",
       "    }\n",
       "\n",
       "    .dataframe tbody tr th {\n",
       "        vertical-align: top;\n",
       "    }\n",
       "\n",
       "    .dataframe thead th {\n",
       "        text-align: right;\n",
       "    }\n",
       "</style>\n",
       "<table border=\"1\" class=\"dataframe\">\n",
       "  <thead>\n",
       "    <tr style=\"text-align: right;\">\n",
       "      <th></th>\n",
       "      <th>run</th>\n",
       "      <th>evnum</th>\n",
       "      <th>evname</th>\n",
       "      <th>start_millisec</th>\n",
       "      <th>end_millisec</th>\n",
       "      <th>startsec</th>\n",
       "      <th>endsec</th>\n",
       "      <th>instance</th>\n",
       "      <th>start_diff</th>\n",
       "      <th>end_diff</th>\n",
       "    </tr>\n",
       "  </thead>\n",
       "  <tbody>\n",
       "    <tr>\n",
       "      <th>27</th>\n",
       "      <td>1.1.4</td>\n",
       "      <td>7</td>\n",
       "      <td>clean_a_surface</td>\n",
       "      <td>680624</td>\n",
       "      <td>716610</td>\n",
       "      <td>680.624</td>\n",
       "      <td>716.610</td>\n",
       "      <td>1.1.4_7</td>\n",
       "      <td>25.441</td>\n",
       "      <td>1.350</td>\n",
       "    </tr>\n",
       "    <tr>\n",
       "      <th>176</th>\n",
       "      <td>1.3.6</td>\n",
       "      <td>2</td>\n",
       "      <td>fold_shirts_or_pants</td>\n",
       "      <td>117273</td>\n",
       "      <td>280518</td>\n",
       "      <td>117.273</td>\n",
       "      <td>280.518</td>\n",
       "      <td>1.3.6_2</td>\n",
       "      <td>25.315</td>\n",
       "      <td>-1.622</td>\n",
       "    </tr>\n",
       "    <tr>\n",
       "      <th>721</th>\n",
       "      <td>4.3.7</td>\n",
       "      <td>7</td>\n",
       "      <td>fold_shirts_or_pants</td>\n",
       "      <td>408217</td>\n",
       "      <td>475997</td>\n",
       "      <td>408.217</td>\n",
       "      <td>475.997</td>\n",
       "      <td>4.3.7_7</td>\n",
       "      <td>32.372</td>\n",
       "      <td>-2.942</td>\n",
       "    </tr>\n",
       "  </tbody>\n",
       "</table>\n",
       "</div>"
      ],
      "text/plain": [
       "       run  evnum                evname  start_millisec  end_millisec  \\\n",
       "27   1.1.4      7       clean_a_surface          680624        716610   \n",
       "176  1.3.6      2  fold_shirts_or_pants          117273        280518   \n",
       "721  4.3.7      7  fold_shirts_or_pants          408217        475997   \n",
       "\n",
       "     startsec   endsec instance  start_diff  end_diff  \n",
       "27    680.624  716.610  1.1.4_7      25.441     1.350  \n",
       "176   117.273  280.518  1.3.6_2      25.315    -1.622  \n",
       "721   408.217  475.997  4.3.7_7      32.372    -2.942  "
      ]
     },
     "execution_count": 40,
     "metadata": {},
     "output_type": "execute_result"
    }
   ],
   "source": [
    "df_VN[df_VN['start_diff'] > 25]"
   ]
  },
  {
   "cell_type": "code",
   "execution_count": 41,
   "id": "02c5c1f3-9b16-4d32-9075-b183e4b44692",
   "metadata": {},
   "outputs": [
    {
     "data": {
      "text/html": [
       "<div>\n",
       "<style scoped>\n",
       "    .dataframe tbody tr th:only-of-type {\n",
       "        vertical-align: middle;\n",
       "    }\n",
       "\n",
       "    .dataframe tbody tr th {\n",
       "        vertical-align: top;\n",
       "    }\n",
       "\n",
       "    .dataframe thead th {\n",
       "        text-align: right;\n",
       "    }\n",
       "</style>\n",
       "<table border=\"1\" class=\"dataframe\">\n",
       "  <thead>\n",
       "    <tr style=\"text-align: right;\">\n",
       "      <th></th>\n",
       "      <th>run</th>\n",
       "      <th>evnum</th>\n",
       "      <th>evname</th>\n",
       "      <th>start_millisec</th>\n",
       "      <th>end_millisec</th>\n",
       "      <th>startsec</th>\n",
       "      <th>endsec</th>\n",
       "      <th>instance</th>\n",
       "      <th>start_diff</th>\n",
       "      <th>end_diff</th>\n",
       "    </tr>\n",
       "  </thead>\n",
       "  <tbody>\n",
       "    <tr>\n",
       "      <th>720</th>\n",
       "      <td>4.3.7</td>\n",
       "      <td>6</td>\n",
       "      <td>fold_towels</td>\n",
       "      <td>321003</td>\n",
       "      <td>407593</td>\n",
       "      <td>321.003</td>\n",
       "      <td>407.593</td>\n",
       "      <td>4.3.7_6</td>\n",
       "      <td>1.452</td>\n",
       "      <td>31.749</td>\n",
       "    </tr>\n",
       "  </tbody>\n",
       "</table>\n",
       "</div>"
      ],
      "text/plain": [
       "       run  evnum       evname  start_millisec  end_millisec  startsec  \\\n",
       "720  4.3.7      6  fold_towels          321003        407593   321.003   \n",
       "\n",
       "      endsec instance  start_diff  end_diff  \n",
       "720  407.593  4.3.7_6       1.452    31.749  "
      ]
     },
     "execution_count": 41,
     "metadata": {},
     "output_type": "execute_result"
    }
   ],
   "source": [
    "df_VN[df_VN['end_diff'] > 25]"
   ]
  },
  {
   "cell_type": "code",
   "execution_count": 42,
   "id": "ec959d6e-f0ea-40a1-bd9f-7f0abd0bcd05",
   "metadata": {},
   "outputs": [
    {
     "data": {
      "text/html": [
       "<div>\n",
       "<style scoped>\n",
       "    .dataframe tbody tr th:only-of-type {\n",
       "        vertical-align: middle;\n",
       "    }\n",
       "\n",
       "    .dataframe tbody tr th {\n",
       "        vertical-align: top;\n",
       "    }\n",
       "\n",
       "    .dataframe thead th {\n",
       "        text-align: right;\n",
       "    }\n",
       "</style>\n",
       "<table border=\"1\" class=\"dataframe\">\n",
       "  <thead>\n",
       "    <tr style=\"text-align: right;\">\n",
       "      <th></th>\n",
       "      <th>run</th>\n",
       "      <th>evnum</th>\n",
       "      <th>evname</th>\n",
       "      <th>start_millisec</th>\n",
       "      <th>end_millisec</th>\n",
       "      <th>startsec</th>\n",
       "      <th>endsec</th>\n",
       "      <th>instance</th>\n",
       "      <th>start_diff</th>\n",
       "      <th>end_diff</th>\n",
       "    </tr>\n",
       "  </thead>\n",
       "  <tbody>\n",
       "  </tbody>\n",
       "</table>\n",
       "</div>"
      ],
      "text/plain": [
       "Empty DataFrame\n",
       "Columns: [run, evnum, evname, start_millisec, end_millisec, startsec, endsec, instance, start_diff, end_diff]\n",
       "Index: []"
      ]
     },
     "execution_count": 42,
     "metadata": {},
     "output_type": "execute_result"
    }
   ],
   "source": [
    "df_VN[df_VN['endsec'] - df_VN['startsec'] < 0]"
   ]
  },
  {
   "cell_type": "code",
   "execution_count": 43,
   "id": "11da7c59-0aa9-4302-80ec-971099a89749",
   "metadata": {},
   "outputs": [
    {
     "data": {
      "text/plain": [
       "0.8709999999999809"
      ]
     },
     "execution_count": 43,
     "metadata": {},
     "output_type": "execute_result"
    }
   ],
   "source": [
    "# Median offset of ends:\n",
    "df_VN['end_diff'].abs().median()"
   ]
  },
  {
   "cell_type": "code",
   "execution_count": 44,
   "id": "f1d82899-2542-4123-a6ae-10d5bbe69a51",
   "metadata": {},
   "outputs": [
    {
     "data": {
      "text/plain": [
       "1.8489999999999895"
      ]
     },
     "execution_count": 44,
     "metadata": {},
     "output_type": "execute_result"
    }
   ],
   "source": [
    "# Median offset of starts:\n",
    "df_VN['start_diff'].abs().median()"
   ]
  },
  {
   "cell_type": "code",
   "execution_count": 45,
   "id": "b73dbc2e-6372-4b05-820f-bc32a6f66983",
   "metadata": {},
   "outputs": [
    {
     "data": {
      "text/plain": [
       "1.4024999999999954"
      ]
     },
     "execution_count": 45,
     "metadata": {},
     "output_type": "execute_result"
    }
   ],
   "source": [
    "# Overall median offset of starts and ends\n",
    "np.nanmedian(np.concatenate((df_VN['end_diff'].abs().values,df_VN['start_diff'].abs().values)))"
   ]
  },
  {
   "cell_type": "markdown",
   "id": "cc5b579d-929d-4cdc-8217-57c69ac88ddc",
   "metadata": {},
   "source": [
    "# Compute the average of start and end times for final annotation file"
   ]
  },
  {
   "cell_type": "code",
   "execution_count": 46,
   "id": "af487079-bd54-4053-87fa-dbe742300632",
   "metadata": {},
   "outputs": [],
   "source": [
    "for instance in df_VN['instance']:\n",
    "    df_VN.loc[df_VN['instance']==instance, 'start_avg'] = (df_VN.loc[df_VN['instance']==instance, 'startsec'].values + df_MS.loc[df_MS['instance']==instance, 'startsec'].values)[0]/2.0\n",
    "    df_VN.loc[df_VN['instance']==instance, 'end_avg'] = (df_VN.loc[df_VN['instance']==instance, 'endsec'].values + df_MS.loc[df_MS['instance']==instance, 'endsec'].values)[0]/2.0"
   ]
  },
  {
   "cell_type": "code",
   "execution_count": 48,
   "id": "f6a60aaf-6e6e-4c0e-8bf2-f893ed33ef60",
   "metadata": {},
   "outputs": [],
   "source": [
    "df_avg = df_VN[['run','evnum','evname','start_avg','end_avg']]"
   ]
  },
  {
   "cell_type": "code",
   "execution_count": 49,
   "id": "ea24b800-69c9-41a0-874b-a3c1a6fb448c",
   "metadata": {},
   "outputs": [],
   "source": [
    "df_avg = df_avg.rename(columns={'start_avg':'startsec','end_avg':'endsec'})"
   ]
  },
  {
   "cell_type": "code",
   "execution_count": 50,
   "id": "cb88e1ae-3d3f-4eba-8742-3169487d4a97",
   "metadata": {},
   "outputs": [],
   "source": [
    "df_avg.to_csv('event_annotation_timing_average.csv',index=False)"
   ]
  },
  {
   "cell_type": "code",
   "execution_count": null,
   "id": "67dae709-8590-4e1c-85af-ac0f1d86d75b",
   "metadata": {},
   "outputs": [],
   "source": []
  }
 ],
 "metadata": {
  "kernelspec": {
   "display_name": "Python 3 (ipykernel)",
   "language": "python",
   "name": "python3"
  },
  "language_info": {
   "codemirror_mode": {
    "name": "ipython",
    "version": 3
   },
   "file_extension": ".py",
   "mimetype": "text/x-python",
   "name": "python",
   "nbconvert_exporter": "python",
   "pygments_lexer": "ipython3",
   "version": "3.9.7"
  }
 },
 "nbformat": 4,
 "nbformat_minor": 5
}
