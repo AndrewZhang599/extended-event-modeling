{
 "cells": [
  {
   "cell_type": "code",
   "execution_count": 4,
   "metadata": {
    "collapsed": true
   },
   "outputs": [],
   "source": [
    "import pandas as pd\n",
    "from utils import contain_substr\n",
    "\n",
    "def preprocess_skel(skel_csv, use_position=0, standardize=True):\n",
    "    skel_df = pd.read_csv(skel_csv, index_col='frame')\n",
    "    skel_df.drop(['sync_time', 'raw_time', 'body', 'J1_dist_from_J1', 'J1_3D_rel_X', 'J1_3D_rel_Y', 'J1_3D_rel_Z'], axis=1,\n",
    "                 inplace=True, errors='ignore')\n",
    "    if use_position:\n",
    "        keeps = ['accel', 'speed', 'dist', 'interhand', '2D', 'rel']\n",
    "    else:\n",
    "        keeps = ['accel', 'speed', 'dist', 'interhand', 'rel']\n",
    "\n",
    "    for c in skel_df.columns:\n",
    "        if contain_substr(c, keeps):\n",
    "            continue\n",
    "        else:\n",
    "            skel_df.drop([c], axis=1, inplace=True)\n",
    "    if standardize:\n",
    "        # load sampled skel features, 200 samples for each video.\n",
    "        combined_runs = pd.read_csv('sampled_skel_features_dec_6.csv')\n",
    "        # mask outliers with N/A\n",
    "        select_indices = (skel_df < combined_runs.quantile(upper_quantile)) & (skel_df > combined_runs.quantile(low_quantile))\n",
    "        skel_df = skel_df[select_indices]\n",
    "        qualified_columns = (select_indices.sum() > int(len(skel_df) * marked))\n",
    "        if qualified_columns.sum() / len(qualified_columns) > passed:\n",
    "            return 1\n",
    "        else:\n",
    "            print(f\"Video {skel_csv} has {len(qualified_columns) - qualified_columns.sum()} un-qualified columns!!!\")\n",
    "            return 0\n",
    "        # fill N/A\n",
    "\n",
    "    #     skel_df = skel_df.ffill()\n",
    "    #\n",
    "    #     # standardize using global statistics\n",
    "    #     select_indices = (combined_runs < combined_runs.quantile(upper_quantile)) & (combined_runs > combined_runs.quantile(low_quantile))\n",
    "    #     combined_runs_q = combined_runs[select_indices]\n",
    "    #     stats = combined_runs_q.describe().loc[['mean', 'std']]\n",
    "    #     skel_df = (skel_df - stats.loc['mean', skel_df.columns]) / stats.loc['std', skel_df.columns]\n",
    "    #\n",
    "    # return skel_df"
   ]
  },
  {
   "cell_type": "code",
   "execution_count": 6,
   "outputs": [
    {
     "name": "stdout",
     "output_type": "stream",
     "text": [
      "Video output/skel\\1.1.3_kinect_skel_features.csv has 21 un-qualified columns!!!\n",
      "Video output/skel\\1.1.5_kinect_skel_features.csv has 23 un-qualified columns!!!\n"
     ]
    },
    {
     "name": "stderr",
     "output_type": "stream",
     "text": [
      "C:\\Users\\nguye\\anaconda3\\envs\\tf-37\\lib\\site-packages\\ipykernel_launcher.py:27: FutureWarning: Automatic reindexing on DataFrame vs Series comparisons is deprecated and will raise ValueError in a future version.  Do `left, right = left.align(right, axis=1, copy=False)` before e.g. `left == right`\n"
     ]
    },
    {
     "name": "stdout",
     "output_type": "stream",
     "text": [
      "Video output/skel\\1.2.10_kinect_skel_features.csv has 111 un-qualified columns!!!\n",
      "Video output/skel\\1.2.2_kinect_skel_features.csv has 119 un-qualified columns!!!\n",
      "Video output/skel\\1.2.4_kinect_skel_features.csv has 23 un-qualified columns!!!\n",
      "Video output/skel\\1.2.5_kinect_skel_features.csv has 43 un-qualified columns!!!\n",
      "Video output/skel\\1.2.6_kinect_skel_features.csv has 16 un-qualified columns!!!\n",
      "Video output/skel\\1.2.8_kinect_skel_features.csv has 19 un-qualified columns!!!\n",
      "Video output/skel\\1.3.5_kinect_skel_features.csv has 112 un-qualified columns!!!\n",
      "Video output/skel\\2.3.9_kinect_skel_features.csv has 16 un-qualified columns!!!\n",
      "Video output/skel\\2.4.5_kinect_skel_features.csv has 21 un-qualified columns!!!\n",
      "Video output/skel\\3.3.1_kinect_skel_features.csv has 26 un-qualified columns!!!\n",
      "Video output/skel\\3.3.2_kinect_skel_features.csv has 30 un-qualified columns!!!\n",
      "Video output/skel\\3.3.3_kinect_skel_features.csv has 25 un-qualified columns!!!\n",
      "Video output/skel\\3.3.4_kinect_skel_features.csv has 21 un-qualified columns!!!\n",
      "Video output/skel\\3.3.5_kinect_skel_features.csv has 23 un-qualified columns!!!\n",
      "Video output/skel\\3.3.6_kinect_skel_features.csv has 30 un-qualified columns!!!\n",
      "Video output/skel\\3.3.8_kinect_skel_features.csv has 28 un-qualified columns!!!\n",
      "Video output/skel\\3.3.9_kinect_skel_features.csv has 27 un-qualified columns!!!\n",
      "Video output/skel\\3.4.10_kinect_skel_features.csv has 27 un-qualified columns!!!\n",
      "Video output/skel\\3.4.1_kinect_skel_features.csv has 19 un-qualified columns!!!\n",
      "Video output/skel\\3.4.2_kinect_skel_features.csv has 21 un-qualified columns!!!\n",
      "Video output/skel\\3.4.4_kinect_skel_features.csv has 19 un-qualified columns!!!\n",
      "Video output/skel\\3.4.8_kinect_skel_features.csv has 22 un-qualified columns!!!\n",
      "Video output/skel\\3.4.9_kinect_skel_features.csv has 17 un-qualified columns!!!\n",
      "Video output/skel\\4.1.10_kinect_skel_features.csv has 27 un-qualified columns!!!\n",
      "Video output/skel\\4.1.1_kinect_skel_features.csv has 113 un-qualified columns!!!\n",
      "Video output/skel\\4.1.2_kinect_skel_features.csv has 37 un-qualified columns!!!\n",
      "Video output/skel\\4.1.3_kinect_skel_features.csv has 35 un-qualified columns!!!\n",
      "Video output/skel\\4.1.4_kinect_skel_features.csv has 33 un-qualified columns!!!\n",
      "Video output/skel\\4.1.5_kinect_skel_features.csv has 25 un-qualified columns!!!\n",
      "Video output/skel\\4.1.6_kinect_skel_features.csv has 40 un-qualified columns!!!\n",
      "Video output/skel\\4.1.7_kinect_skel_features.csv has 28 un-qualified columns!!!\n",
      "Video output/skel\\4.1.8_kinect_skel_features.csv has 39 un-qualified columns!!!\n",
      "Video output/skel\\4.1.9_kinect_skel_features.csv has 31 un-qualified columns!!!\n",
      "Video output/skel\\4.4.10_kinect_skel_features.csv has 16 un-qualified columns!!!\n",
      "Video output/skel\\4.4.1_kinect_skel_features.csv has 29 un-qualified columns!!!\n",
      "Video output/skel\\4.4.4_kinect_skel_features.csv has 16 un-qualified columns!!!\n",
      "Video output/skel\\4.4.5_kinect_skel_features.csv has 22 un-qualified columns!!!\n",
      "Video output/skel\\4.4.6_kinect_skel_features.csv has 38 un-qualified columns!!!\n",
      "Video output/skel\\6.1.2_kinect_skel_features.csv has 18 un-qualified columns!!!\n",
      "Video output/skel\\6.2.10_kinect_skel_features.csv has 52 un-qualified columns!!!\n",
      "Video output/skel\\6.2.1_kinect_skel_features.csv has 53 un-qualified columns!!!\n",
      "Video output/skel\\6.2.2_kinect_skel_features.csv has 59 un-qualified columns!!!\n",
      "Video output/skel\\6.2.4_kinect_skel_features.csv has 42 un-qualified columns!!!\n",
      "Video output/skel\\6.2.5_kinect_skel_features.csv has 17 un-qualified columns!!!\n",
      "Video output/skel\\6.2.6_kinect_skel_features.csv has 38 un-qualified columns!!!\n",
      "Video output/skel\\6.2.7_kinect_skel_features.csv has 41 un-qualified columns!!!\n",
      "Video output/skel\\6.2.8_kinect_skel_features.csv has 22 un-qualified columns!!!\n",
      "Video output/skel\\6.2.9_kinect_skel_features.csv has 24 un-qualified columns!!!\n",
      "Video output/skel\\6.3.6_kinect_skel_features.csv has 20 un-qualified columns!!!\n",
      "Video output/skel\\6.3.7_kinect_skel_features.csv has 19 un-qualified columns!!!\n"
     ]
    }
   ],
   "source": [
    "import glob\n",
    "skel_csvs = glob.glob('output/skel/*.csv')\n",
    "qualified_runs = 0\n",
    "for skel_csv in skel_csvs:\n",
    "    qualified_runs += preprocess_skel(skel_csv)\n",
    "qualified_runs"
   ],
   "metadata": {
    "collapsed": false,
    "pycharm": {
     "name": "#%%\n"
    }
   }
  },
  {
   "cell_type": "code",
   "execution_count": 9,
   "outputs": [],
   "source": [
    "low_quantile = 0.05\n",
    "upper_quantile = 0.95\n",
    "marked = 0.8 # if more than 80% of the feature falls inside the range, don't mark it\n",
    "passed = 0.9 # if more than 90% of the # features are not marked, don't filter it\n",
    "import numpy as np\n",
    "from joblib import Parallel, delayed\n",
    "data = pd.DataFrame(columns=['marked', 'passed', 'qualified_count'])\n",
    "for marked in np.arange(0.5, 1, 0.1):\n",
    "    for passed in np.arange(0.5, 1, 0.1):\n",
    "        res = Parallel(n_jobs=16)(delayed(preprocess_skel)(skel_csv) for skel_csv in skel_csvs)\n",
    "        qualified_runs = np.sum(res)\n",
    "        data.loc[len(data), :] = [marked, passed, qualified_runs]"
   ],
   "metadata": {
    "collapsed": false,
    "pycharm": {
     "name": "#%%\n"
    }
   }
  },
  {
   "cell_type": "code",
   "execution_count": 10,
   "outputs": [
    {
     "data": {
      "text/plain": "   marked passed qualified_count\n0     0.2    0.5             148\n1     0.2    0.6             144\n2     0.2    0.7             144\n3     0.2    0.8             144\n4     0.2    0.9             144\n5     0.4    0.5             146\n6     0.4    0.6             144\n7     0.4    0.7             144\n8     0.4    0.8             144\n9     0.4    0.9             143\n10    0.6    0.5             144\n11    0.6    0.6             144\n12    0.6    0.7             144\n13    0.6    0.8             144\n14    0.6    0.9             141\n15    0.8    0.5             144\n16    0.8    0.6             144\n17    0.8    0.7             141\n18    0.8    0.8             128\n19    0.8    0.9              96",
      "text/html": "<div>\n<style scoped>\n    .dataframe tbody tr th:only-of-type {\n        vertical-align: middle;\n    }\n\n    .dataframe tbody tr th {\n        vertical-align: top;\n    }\n\n    .dataframe thead th {\n        text-align: right;\n    }\n</style>\n<table border=\"1\" class=\"dataframe\">\n  <thead>\n    <tr style=\"text-align: right;\">\n      <th></th>\n      <th>marked</th>\n      <th>passed</th>\n      <th>qualified_count</th>\n    </tr>\n  </thead>\n  <tbody>\n    <tr>\n      <th>0</th>\n      <td>0.2</td>\n      <td>0.5</td>\n      <td>148</td>\n    </tr>\n    <tr>\n      <th>1</th>\n      <td>0.2</td>\n      <td>0.6</td>\n      <td>144</td>\n    </tr>\n    <tr>\n      <th>2</th>\n      <td>0.2</td>\n      <td>0.7</td>\n      <td>144</td>\n    </tr>\n    <tr>\n      <th>3</th>\n      <td>0.2</td>\n      <td>0.8</td>\n      <td>144</td>\n    </tr>\n    <tr>\n      <th>4</th>\n      <td>0.2</td>\n      <td>0.9</td>\n      <td>144</td>\n    </tr>\n    <tr>\n      <th>5</th>\n      <td>0.4</td>\n      <td>0.5</td>\n      <td>146</td>\n    </tr>\n    <tr>\n      <th>6</th>\n      <td>0.4</td>\n      <td>0.6</td>\n      <td>144</td>\n    </tr>\n    <tr>\n      <th>7</th>\n      <td>0.4</td>\n      <td>0.7</td>\n      <td>144</td>\n    </tr>\n    <tr>\n      <th>8</th>\n      <td>0.4</td>\n      <td>0.8</td>\n      <td>144</td>\n    </tr>\n    <tr>\n      <th>9</th>\n      <td>0.4</td>\n      <td>0.9</td>\n      <td>143</td>\n    </tr>\n    <tr>\n      <th>10</th>\n      <td>0.6</td>\n      <td>0.5</td>\n      <td>144</td>\n    </tr>\n    <tr>\n      <th>11</th>\n      <td>0.6</td>\n      <td>0.6</td>\n      <td>144</td>\n    </tr>\n    <tr>\n      <th>12</th>\n      <td>0.6</td>\n      <td>0.7</td>\n      <td>144</td>\n    </tr>\n    <tr>\n      <th>13</th>\n      <td>0.6</td>\n      <td>0.8</td>\n      <td>144</td>\n    </tr>\n    <tr>\n      <th>14</th>\n      <td>0.6</td>\n      <td>0.9</td>\n      <td>141</td>\n    </tr>\n    <tr>\n      <th>15</th>\n      <td>0.8</td>\n      <td>0.5</td>\n      <td>144</td>\n    </tr>\n    <tr>\n      <th>16</th>\n      <td>0.8</td>\n      <td>0.6</td>\n      <td>144</td>\n    </tr>\n    <tr>\n      <th>17</th>\n      <td>0.8</td>\n      <td>0.7</td>\n      <td>141</td>\n    </tr>\n    <tr>\n      <th>18</th>\n      <td>0.8</td>\n      <td>0.8</td>\n      <td>128</td>\n    </tr>\n    <tr>\n      <th>19</th>\n      <td>0.8</td>\n      <td>0.9</td>\n      <td>96</td>\n    </tr>\n  </tbody>\n</table>\n</div>"
     },
     "execution_count": 10,
     "metadata": {},
     "output_type": "execute_result"
    }
   ],
   "source": [
    "data\n"
   ],
   "metadata": {
    "collapsed": false,
    "pycharm": {
     "name": "#%%\n"
    }
   }
  },
  {
   "cell_type": "code",
   "execution_count": 33,
   "outputs": [],
   "source": [
    "data_wide = data.pivot(index=['marked'],columns=\"passed\", values=\"qualified_count\")\n",
    "data_wide = data_wide / 149"
   ],
   "metadata": {
    "collapsed": false,
    "pycharm": {
     "name": "#%%\n"
    }
   }
  },
  {
   "cell_type": "code",
   "execution_count": 34,
   "outputs": [
    {
     "data": {
      "text/plain": "passed       0.5       0.6       0.7       0.8       0.9\nmarked                                                  \n0.2     0.993289  0.966443  0.966443  0.966443  0.966443\n0.4     0.979866  0.966443  0.966443  0.966443  0.959732\n0.6     0.966443  0.966443  0.966443  0.966443  0.946309\n0.8     0.966443  0.966443  0.946309   0.85906  0.644295",
      "text/html": "<div>\n<style scoped>\n    .dataframe tbody tr th:only-of-type {\n        vertical-align: middle;\n    }\n\n    .dataframe tbody tr th {\n        vertical-align: top;\n    }\n\n    .dataframe thead th {\n        text-align: right;\n    }\n</style>\n<table border=\"1\" class=\"dataframe\">\n  <thead>\n    <tr style=\"text-align: right;\">\n      <th>passed</th>\n      <th>0.5</th>\n      <th>0.6</th>\n      <th>0.7</th>\n      <th>0.8</th>\n      <th>0.9</th>\n    </tr>\n    <tr>\n      <th>marked</th>\n      <th></th>\n      <th></th>\n      <th></th>\n      <th></th>\n      <th></th>\n    </tr>\n  </thead>\n  <tbody>\n    <tr>\n      <th>0.2</th>\n      <td>0.993289</td>\n      <td>0.966443</td>\n      <td>0.966443</td>\n      <td>0.966443</td>\n      <td>0.966443</td>\n    </tr>\n    <tr>\n      <th>0.4</th>\n      <td>0.979866</td>\n      <td>0.966443</td>\n      <td>0.966443</td>\n      <td>0.966443</td>\n      <td>0.959732</td>\n    </tr>\n    <tr>\n      <th>0.6</th>\n      <td>0.966443</td>\n      <td>0.966443</td>\n      <td>0.966443</td>\n      <td>0.966443</td>\n      <td>0.946309</td>\n    </tr>\n    <tr>\n      <th>0.8</th>\n      <td>0.966443</td>\n      <td>0.966443</td>\n      <td>0.946309</td>\n      <td>0.85906</td>\n      <td>0.644295</td>\n    </tr>\n  </tbody>\n</table>\n</div>"
     },
     "execution_count": 34,
     "metadata": {},
     "output_type": "execute_result"
    }
   ],
   "source": [
    "data_wide"
   ],
   "metadata": {
    "collapsed": false,
    "pycharm": {
     "name": "#%%\n"
    }
   }
  },
  {
   "cell_type": "code",
   "execution_count": 35,
   "outputs": [
    {
     "data": {
      "application/vnd.plotly.v1+json": {
       "config": {
        "plotlyServerURL": "https://plot.ly"
       },
       "data": [
        {
         "coloraxis": "coloraxis",
         "hovertemplate": "passed: %{x}<br>marked: %{y}<br>color: %{z}<extra></extra>",
         "name": "0",
         "type": "heatmap",
         "x": [
          0.5,
          0.6,
          0.7,
          0.7999999999999999,
          0.8999999999999999
         ],
         "xaxis": "x",
         "y": [
          0.2,
          0.4,
          0.6000000000000001,
          0.8
         ],
         "yaxis": "y",
         "z": [
          [
           0.9932885906040269,
           0.9664429530201343,
           0.9664429530201343,
           0.9664429530201343,
           0.9664429530201343
          ],
          [
           0.9798657718120806,
           0.9664429530201343,
           0.9664429530201343,
           0.9664429530201343,
           0.959731543624161
          ],
          [
           0.9664429530201343,
           0.9664429530201343,
           0.9664429530201343,
           0.9664429530201343,
           0.9463087248322147
          ],
          [
           0.9664429530201343,
           0.9664429530201343,
           0.9463087248322147,
           0.8590604026845637,
           0.6442953020134228
          ]
         ]
        }
       ],
       "layout": {
        "coloraxis": {
         "colorscale": [
          [
           0.0,
           "#0d0887"
          ],
          [
           0.1111111111111111,
           "#46039f"
          ],
          [
           0.2222222222222222,
           "#7201a8"
          ],
          [
           0.3333333333333333,
           "#9c179e"
          ],
          [
           0.4444444444444444,
           "#bd3786"
          ],
          [
           0.5555555555555556,
           "#d8576b"
          ],
          [
           0.6666666666666666,
           "#ed7953"
          ],
          [
           0.7777777777777778,
           "#fb9f3a"
          ],
          [
           0.8888888888888888,
           "#fdca26"
          ],
          [
           1.0,
           "#f0f921"
          ]
         ]
        },
        "margin": {
         "t": 60
        },
        "template": {
         "data": {
          "bar": [
           {
            "error_x": {
             "color": "#2a3f5f"
            },
            "error_y": {
             "color": "#2a3f5f"
            },
            "marker": {
             "line": {
              "color": "#E5ECF6",
              "width": 0.5
             },
             "pattern": {
              "fillmode": "overlay",
              "size": 10,
              "solidity": 0.2
             }
            },
            "type": "bar"
           }
          ],
          "barpolar": [
           {
            "marker": {
             "line": {
              "color": "#E5ECF6",
              "width": 0.5
             },
             "pattern": {
              "fillmode": "overlay",
              "size": 10,
              "solidity": 0.2
             }
            },
            "type": "barpolar"
           }
          ],
          "carpet": [
           {
            "aaxis": {
             "endlinecolor": "#2a3f5f",
             "gridcolor": "white",
             "linecolor": "white",
             "minorgridcolor": "white",
             "startlinecolor": "#2a3f5f"
            },
            "baxis": {
             "endlinecolor": "#2a3f5f",
             "gridcolor": "white",
             "linecolor": "white",
             "minorgridcolor": "white",
             "startlinecolor": "#2a3f5f"
            },
            "type": "carpet"
           }
          ],
          "choropleth": [
           {
            "colorbar": {
             "outlinewidth": 0,
             "ticks": ""
            },
            "type": "choropleth"
           }
          ],
          "contour": [
           {
            "colorbar": {
             "outlinewidth": 0,
             "ticks": ""
            },
            "colorscale": [
             [
              0.0,
              "#0d0887"
             ],
             [
              0.1111111111111111,
              "#46039f"
             ],
             [
              0.2222222222222222,
              "#7201a8"
             ],
             [
              0.3333333333333333,
              "#9c179e"
             ],
             [
              0.4444444444444444,
              "#bd3786"
             ],
             [
              0.5555555555555556,
              "#d8576b"
             ],
             [
              0.6666666666666666,
              "#ed7953"
             ],
             [
              0.7777777777777778,
              "#fb9f3a"
             ],
             [
              0.8888888888888888,
              "#fdca26"
             ],
             [
              1.0,
              "#f0f921"
             ]
            ],
            "type": "contour"
           }
          ],
          "contourcarpet": [
           {
            "colorbar": {
             "outlinewidth": 0,
             "ticks": ""
            },
            "type": "contourcarpet"
           }
          ],
          "heatmap": [
           {
            "colorbar": {
             "outlinewidth": 0,
             "ticks": ""
            },
            "colorscale": [
             [
              0.0,
              "#0d0887"
             ],
             [
              0.1111111111111111,
              "#46039f"
             ],
             [
              0.2222222222222222,
              "#7201a8"
             ],
             [
              0.3333333333333333,
              "#9c179e"
             ],
             [
              0.4444444444444444,
              "#bd3786"
             ],
             [
              0.5555555555555556,
              "#d8576b"
             ],
             [
              0.6666666666666666,
              "#ed7953"
             ],
             [
              0.7777777777777778,
              "#fb9f3a"
             ],
             [
              0.8888888888888888,
              "#fdca26"
             ],
             [
              1.0,
              "#f0f921"
             ]
            ],
            "type": "heatmap"
           }
          ],
          "heatmapgl": [
           {
            "colorbar": {
             "outlinewidth": 0,
             "ticks": ""
            },
            "colorscale": [
             [
              0.0,
              "#0d0887"
             ],
             [
              0.1111111111111111,
              "#46039f"
             ],
             [
              0.2222222222222222,
              "#7201a8"
             ],
             [
              0.3333333333333333,
              "#9c179e"
             ],
             [
              0.4444444444444444,
              "#bd3786"
             ],
             [
              0.5555555555555556,
              "#d8576b"
             ],
             [
              0.6666666666666666,
              "#ed7953"
             ],
             [
              0.7777777777777778,
              "#fb9f3a"
             ],
             [
              0.8888888888888888,
              "#fdca26"
             ],
             [
              1.0,
              "#f0f921"
             ]
            ],
            "type": "heatmapgl"
           }
          ],
          "histogram": [
           {
            "marker": {
             "pattern": {
              "fillmode": "overlay",
              "size": 10,
              "solidity": 0.2
             }
            },
            "type": "histogram"
           }
          ],
          "histogram2d": [
           {
            "colorbar": {
             "outlinewidth": 0,
             "ticks": ""
            },
            "colorscale": [
             [
              0.0,
              "#0d0887"
             ],
             [
              0.1111111111111111,
              "#46039f"
             ],
             [
              0.2222222222222222,
              "#7201a8"
             ],
             [
              0.3333333333333333,
              "#9c179e"
             ],
             [
              0.4444444444444444,
              "#bd3786"
             ],
             [
              0.5555555555555556,
              "#d8576b"
             ],
             [
              0.6666666666666666,
              "#ed7953"
             ],
             [
              0.7777777777777778,
              "#fb9f3a"
             ],
             [
              0.8888888888888888,
              "#fdca26"
             ],
             [
              1.0,
              "#f0f921"
             ]
            ],
            "type": "histogram2d"
           }
          ],
          "histogram2dcontour": [
           {
            "colorbar": {
             "outlinewidth": 0,
             "ticks": ""
            },
            "colorscale": [
             [
              0.0,
              "#0d0887"
             ],
             [
              0.1111111111111111,
              "#46039f"
             ],
             [
              0.2222222222222222,
              "#7201a8"
             ],
             [
              0.3333333333333333,
              "#9c179e"
             ],
             [
              0.4444444444444444,
              "#bd3786"
             ],
             [
              0.5555555555555556,
              "#d8576b"
             ],
             [
              0.6666666666666666,
              "#ed7953"
             ],
             [
              0.7777777777777778,
              "#fb9f3a"
             ],
             [
              0.8888888888888888,
              "#fdca26"
             ],
             [
              1.0,
              "#f0f921"
             ]
            ],
            "type": "histogram2dcontour"
           }
          ],
          "mesh3d": [
           {
            "colorbar": {
             "outlinewidth": 0,
             "ticks": ""
            },
            "type": "mesh3d"
           }
          ],
          "parcoords": [
           {
            "line": {
             "colorbar": {
              "outlinewidth": 0,
              "ticks": ""
             }
            },
            "type": "parcoords"
           }
          ],
          "pie": [
           {
            "automargin": true,
            "type": "pie"
           }
          ],
          "scatter": [
           {
            "marker": {
             "colorbar": {
              "outlinewidth": 0,
              "ticks": ""
             }
            },
            "type": "scatter"
           }
          ],
          "scatter3d": [
           {
            "line": {
             "colorbar": {
              "outlinewidth": 0,
              "ticks": ""
             }
            },
            "marker": {
             "colorbar": {
              "outlinewidth": 0,
              "ticks": ""
             }
            },
            "type": "scatter3d"
           }
          ],
          "scattercarpet": [
           {
            "marker": {
             "colorbar": {
              "outlinewidth": 0,
              "ticks": ""
             }
            },
            "type": "scattercarpet"
           }
          ],
          "scattergeo": [
           {
            "marker": {
             "colorbar": {
              "outlinewidth": 0,
              "ticks": ""
             }
            },
            "type": "scattergeo"
           }
          ],
          "scattergl": [
           {
            "marker": {
             "colorbar": {
              "outlinewidth": 0,
              "ticks": ""
             }
            },
            "type": "scattergl"
           }
          ],
          "scattermapbox": [
           {
            "marker": {
             "colorbar": {
              "outlinewidth": 0,
              "ticks": ""
             }
            },
            "type": "scattermapbox"
           }
          ],
          "scatterpolar": [
           {
            "marker": {
             "colorbar": {
              "outlinewidth": 0,
              "ticks": ""
             }
            },
            "type": "scatterpolar"
           }
          ],
          "scatterpolargl": [
           {
            "marker": {
             "colorbar": {
              "outlinewidth": 0,
              "ticks": ""
             }
            },
            "type": "scatterpolargl"
           }
          ],
          "scatterternary": [
           {
            "marker": {
             "colorbar": {
              "outlinewidth": 0,
              "ticks": ""
             }
            },
            "type": "scatterternary"
           }
          ],
          "surface": [
           {
            "colorbar": {
             "outlinewidth": 0,
             "ticks": ""
            },
            "colorscale": [
             [
              0.0,
              "#0d0887"
             ],
             [
              0.1111111111111111,
              "#46039f"
             ],
             [
              0.2222222222222222,
              "#7201a8"
             ],
             [
              0.3333333333333333,
              "#9c179e"
             ],
             [
              0.4444444444444444,
              "#bd3786"
             ],
             [
              0.5555555555555556,
              "#d8576b"
             ],
             [
              0.6666666666666666,
              "#ed7953"
             ],
             [
              0.7777777777777778,
              "#fb9f3a"
             ],
             [
              0.8888888888888888,
              "#fdca26"
             ],
             [
              1.0,
              "#f0f921"
             ]
            ],
            "type": "surface"
           }
          ],
          "table": [
           {
            "cells": {
             "fill": {
              "color": "#EBF0F8"
             },
             "line": {
              "color": "white"
             }
            },
            "header": {
             "fill": {
              "color": "#C8D4E3"
             },
             "line": {
              "color": "white"
             }
            },
            "type": "table"
           }
          ]
         },
         "layout": {
          "annotationdefaults": {
           "arrowcolor": "#2a3f5f",
           "arrowhead": 0,
           "arrowwidth": 1
          },
          "autotypenumbers": "strict",
          "coloraxis": {
           "colorbar": {
            "outlinewidth": 0,
            "ticks": ""
           }
          },
          "colorscale": {
           "diverging": [
            [
             0,
             "#8e0152"
            ],
            [
             0.1,
             "#c51b7d"
            ],
            [
             0.2,
             "#de77ae"
            ],
            [
             0.3,
             "#f1b6da"
            ],
            [
             0.4,
             "#fde0ef"
            ],
            [
             0.5,
             "#f7f7f7"
            ],
            [
             0.6,
             "#e6f5d0"
            ],
            [
             0.7,
             "#b8e186"
            ],
            [
             0.8,
             "#7fbc41"
            ],
            [
             0.9,
             "#4d9221"
            ],
            [
             1,
             "#276419"
            ]
           ],
           "sequential": [
            [
             0.0,
             "#0d0887"
            ],
            [
             0.1111111111111111,
             "#46039f"
            ],
            [
             0.2222222222222222,
             "#7201a8"
            ],
            [
             0.3333333333333333,
             "#9c179e"
            ],
            [
             0.4444444444444444,
             "#bd3786"
            ],
            [
             0.5555555555555556,
             "#d8576b"
            ],
            [
             0.6666666666666666,
             "#ed7953"
            ],
            [
             0.7777777777777778,
             "#fb9f3a"
            ],
            [
             0.8888888888888888,
             "#fdca26"
            ],
            [
             1.0,
             "#f0f921"
            ]
           ],
           "sequentialminus": [
            [
             0.0,
             "#0d0887"
            ],
            [
             0.1111111111111111,
             "#46039f"
            ],
            [
             0.2222222222222222,
             "#7201a8"
            ],
            [
             0.3333333333333333,
             "#9c179e"
            ],
            [
             0.4444444444444444,
             "#bd3786"
            ],
            [
             0.5555555555555556,
             "#d8576b"
            ],
            [
             0.6666666666666666,
             "#ed7953"
            ],
            [
             0.7777777777777778,
             "#fb9f3a"
            ],
            [
             0.8888888888888888,
             "#fdca26"
            ],
            [
             1.0,
             "#f0f921"
            ]
           ]
          },
          "colorway": [
           "#636efa",
           "#EF553B",
           "#00cc96",
           "#ab63fa",
           "#FFA15A",
           "#19d3f3",
           "#FF6692",
           "#B6E880",
           "#FF97FF",
           "#FECB52"
          ],
          "font": {
           "color": "#2a3f5f"
          },
          "geo": {
           "bgcolor": "white",
           "lakecolor": "white",
           "landcolor": "#E5ECF6",
           "showlakes": true,
           "showland": true,
           "subunitcolor": "white"
          },
          "hoverlabel": {
           "align": "left"
          },
          "hovermode": "closest",
          "mapbox": {
           "style": "light"
          },
          "paper_bgcolor": "white",
          "plot_bgcolor": "#E5ECF6",
          "polar": {
           "angularaxis": {
            "gridcolor": "white",
            "linecolor": "white",
            "ticks": ""
           },
           "bgcolor": "#E5ECF6",
           "radialaxis": {
            "gridcolor": "white",
            "linecolor": "white",
            "ticks": ""
           }
          },
          "scene": {
           "xaxis": {
            "backgroundcolor": "#E5ECF6",
            "gridcolor": "white",
            "gridwidth": 2,
            "linecolor": "white",
            "showbackground": true,
            "ticks": "",
            "zerolinecolor": "white"
           },
           "yaxis": {
            "backgroundcolor": "#E5ECF6",
            "gridcolor": "white",
            "gridwidth": 2,
            "linecolor": "white",
            "showbackground": true,
            "ticks": "",
            "zerolinecolor": "white"
           },
           "zaxis": {
            "backgroundcolor": "#E5ECF6",
            "gridcolor": "white",
            "gridwidth": 2,
            "linecolor": "white",
            "showbackground": true,
            "ticks": "",
            "zerolinecolor": "white"
           }
          },
          "shapedefaults": {
           "line": {
            "color": "#2a3f5f"
           }
          },
          "ternary": {
           "aaxis": {
            "gridcolor": "white",
            "linecolor": "white",
            "ticks": ""
           },
           "baxis": {
            "gridcolor": "white",
            "linecolor": "white",
            "ticks": ""
           },
           "bgcolor": "#E5ECF6",
           "caxis": {
            "gridcolor": "white",
            "linecolor": "white",
            "ticks": ""
           }
          },
          "title": {
           "x": 0.05
          },
          "xaxis": {
           "automargin": true,
           "gridcolor": "white",
           "linecolor": "white",
           "ticks": "",
           "title": {
            "standoff": 15
           },
           "zerolinecolor": "white",
           "zerolinewidth": 2
          },
          "yaxis": {
           "automargin": true,
           "gridcolor": "white",
           "linecolor": "white",
           "ticks": "",
           "title": {
            "standoff": 15
           },
           "zerolinecolor": "white",
           "zerolinewidth": 2
          }
         }
        },
        "xaxis": {
         "anchor": "y",
         "constrain": "domain",
         "domain": [
          0.0,
          1.0
         ],
         "scaleanchor": "y",
         "title": {
          "text": "Percent of Features to Pass as a Video"
         }
        },
        "yaxis": {
         "anchor": "x",
         "autorange": true,
         "constrain": "domain",
         "domain": [
          0.0,
          1.0
         ],
         "title": {
          "text": "Percent of Frames to Pass as a Feature"
         }
        }
       }
      },
      "text/html": "<div>                            <div id=\"a3faa106-1383-42d8-b184-d4b076a99841\" class=\"plotly-graph-div\" style=\"height:525px; width:100%;\"></div>            <script type=\"text/javascript\">                require([\"plotly\"], function(Plotly) {                    window.PLOTLYENV=window.PLOTLYENV || {};                                    if (document.getElementById(\"a3faa106-1383-42d8-b184-d4b076a99841\")) {                    Plotly.newPlot(                        \"a3faa106-1383-42d8-b184-d4b076a99841\",                        [{\"coloraxis\":\"coloraxis\",\"hovertemplate\":\"passed: %{x}<br>marked: %{y}<br>color: %{z}<extra></extra>\",\"name\":\"0\",\"type\":\"heatmap\",\"x\":[0.5,0.6,0.7,0.7999999999999999,0.8999999999999999],\"xaxis\":\"x\",\"y\":[0.2,0.4,0.6000000000000001,0.8],\"yaxis\":\"y\",\"z\":[[0.9932885906040269,0.9664429530201343,0.9664429530201343,0.9664429530201343,0.9664429530201343],[0.9798657718120806,0.9664429530201343,0.9664429530201343,0.9664429530201343,0.959731543624161],[0.9664429530201343,0.9664429530201343,0.9664429530201343,0.9664429530201343,0.9463087248322147],[0.9664429530201343,0.9664429530201343,0.9463087248322147,0.8590604026845637,0.6442953020134228]]}],                        {\"coloraxis\":{\"colorscale\":[[0.0,\"#0d0887\"],[0.1111111111111111,\"#46039f\"],[0.2222222222222222,\"#7201a8\"],[0.3333333333333333,\"#9c179e\"],[0.4444444444444444,\"#bd3786\"],[0.5555555555555556,\"#d8576b\"],[0.6666666666666666,\"#ed7953\"],[0.7777777777777778,\"#fb9f3a\"],[0.8888888888888888,\"#fdca26\"],[1.0,\"#f0f921\"]]},\"margin\":{\"t\":60},\"template\":{\"data\":{\"bar\":[{\"error_x\":{\"color\":\"#2a3f5f\"},\"error_y\":{\"color\":\"#2a3f5f\"},\"marker\":{\"line\":{\"color\":\"#E5ECF6\",\"width\":0.5},\"pattern\":{\"fillmode\":\"overlay\",\"size\":10,\"solidity\":0.2}},\"type\":\"bar\"}],\"barpolar\":[{\"marker\":{\"line\":{\"color\":\"#E5ECF6\",\"width\":0.5},\"pattern\":{\"fillmode\":\"overlay\",\"size\":10,\"solidity\":0.2}},\"type\":\"barpolar\"}],\"carpet\":[{\"aaxis\":{\"endlinecolor\":\"#2a3f5f\",\"gridcolor\":\"white\",\"linecolor\":\"white\",\"minorgridcolor\":\"white\",\"startlinecolor\":\"#2a3f5f\"},\"baxis\":{\"endlinecolor\":\"#2a3f5f\",\"gridcolor\":\"white\",\"linecolor\":\"white\",\"minorgridcolor\":\"white\",\"startlinecolor\":\"#2a3f5f\"},\"type\":\"carpet\"}],\"choropleth\":[{\"colorbar\":{\"outlinewidth\":0,\"ticks\":\"\"},\"type\":\"choropleth\"}],\"contour\":[{\"colorbar\":{\"outlinewidth\":0,\"ticks\":\"\"},\"colorscale\":[[0.0,\"#0d0887\"],[0.1111111111111111,\"#46039f\"],[0.2222222222222222,\"#7201a8\"],[0.3333333333333333,\"#9c179e\"],[0.4444444444444444,\"#bd3786\"],[0.5555555555555556,\"#d8576b\"],[0.6666666666666666,\"#ed7953\"],[0.7777777777777778,\"#fb9f3a\"],[0.8888888888888888,\"#fdca26\"],[1.0,\"#f0f921\"]],\"type\":\"contour\"}],\"contourcarpet\":[{\"colorbar\":{\"outlinewidth\":0,\"ticks\":\"\"},\"type\":\"contourcarpet\"}],\"heatmap\":[{\"colorbar\":{\"outlinewidth\":0,\"ticks\":\"\"},\"colorscale\":[[0.0,\"#0d0887\"],[0.1111111111111111,\"#46039f\"],[0.2222222222222222,\"#7201a8\"],[0.3333333333333333,\"#9c179e\"],[0.4444444444444444,\"#bd3786\"],[0.5555555555555556,\"#d8576b\"],[0.6666666666666666,\"#ed7953\"],[0.7777777777777778,\"#fb9f3a\"],[0.8888888888888888,\"#fdca26\"],[1.0,\"#f0f921\"]],\"type\":\"heatmap\"}],\"heatmapgl\":[{\"colorbar\":{\"outlinewidth\":0,\"ticks\":\"\"},\"colorscale\":[[0.0,\"#0d0887\"],[0.1111111111111111,\"#46039f\"],[0.2222222222222222,\"#7201a8\"],[0.3333333333333333,\"#9c179e\"],[0.4444444444444444,\"#bd3786\"],[0.5555555555555556,\"#d8576b\"],[0.6666666666666666,\"#ed7953\"],[0.7777777777777778,\"#fb9f3a\"],[0.8888888888888888,\"#fdca26\"],[1.0,\"#f0f921\"]],\"type\":\"heatmapgl\"}],\"histogram\":[{\"marker\":{\"pattern\":{\"fillmode\":\"overlay\",\"size\":10,\"solidity\":0.2}},\"type\":\"histogram\"}],\"histogram2d\":[{\"colorbar\":{\"outlinewidth\":0,\"ticks\":\"\"},\"colorscale\":[[0.0,\"#0d0887\"],[0.1111111111111111,\"#46039f\"],[0.2222222222222222,\"#7201a8\"],[0.3333333333333333,\"#9c179e\"],[0.4444444444444444,\"#bd3786\"],[0.5555555555555556,\"#d8576b\"],[0.6666666666666666,\"#ed7953\"],[0.7777777777777778,\"#fb9f3a\"],[0.8888888888888888,\"#fdca26\"],[1.0,\"#f0f921\"]],\"type\":\"histogram2d\"}],\"histogram2dcontour\":[{\"colorbar\":{\"outlinewidth\":0,\"ticks\":\"\"},\"colorscale\":[[0.0,\"#0d0887\"],[0.1111111111111111,\"#46039f\"],[0.2222222222222222,\"#7201a8\"],[0.3333333333333333,\"#9c179e\"],[0.4444444444444444,\"#bd3786\"],[0.5555555555555556,\"#d8576b\"],[0.6666666666666666,\"#ed7953\"],[0.7777777777777778,\"#fb9f3a\"],[0.8888888888888888,\"#fdca26\"],[1.0,\"#f0f921\"]],\"type\":\"histogram2dcontour\"}],\"mesh3d\":[{\"colorbar\":{\"outlinewidth\":0,\"ticks\":\"\"},\"type\":\"mesh3d\"}],\"parcoords\":[{\"line\":{\"colorbar\":{\"outlinewidth\":0,\"ticks\":\"\"}},\"type\":\"parcoords\"}],\"pie\":[{\"automargin\":true,\"type\":\"pie\"}],\"scatter\":[{\"marker\":{\"colorbar\":{\"outlinewidth\":0,\"ticks\":\"\"}},\"type\":\"scatter\"}],\"scatter3d\":[{\"line\":{\"colorbar\":{\"outlinewidth\":0,\"ticks\":\"\"}},\"marker\":{\"colorbar\":{\"outlinewidth\":0,\"ticks\":\"\"}},\"type\":\"scatter3d\"}],\"scattercarpet\":[{\"marker\":{\"colorbar\":{\"outlinewidth\":0,\"ticks\":\"\"}},\"type\":\"scattercarpet\"}],\"scattergeo\":[{\"marker\":{\"colorbar\":{\"outlinewidth\":0,\"ticks\":\"\"}},\"type\":\"scattergeo\"}],\"scattergl\":[{\"marker\":{\"colorbar\":{\"outlinewidth\":0,\"ticks\":\"\"}},\"type\":\"scattergl\"}],\"scattermapbox\":[{\"marker\":{\"colorbar\":{\"outlinewidth\":0,\"ticks\":\"\"}},\"type\":\"scattermapbox\"}],\"scatterpolar\":[{\"marker\":{\"colorbar\":{\"outlinewidth\":0,\"ticks\":\"\"}},\"type\":\"scatterpolar\"}],\"scatterpolargl\":[{\"marker\":{\"colorbar\":{\"outlinewidth\":0,\"ticks\":\"\"}},\"type\":\"scatterpolargl\"}],\"scatterternary\":[{\"marker\":{\"colorbar\":{\"outlinewidth\":0,\"ticks\":\"\"}},\"type\":\"scatterternary\"}],\"surface\":[{\"colorbar\":{\"outlinewidth\":0,\"ticks\":\"\"},\"colorscale\":[[0.0,\"#0d0887\"],[0.1111111111111111,\"#46039f\"],[0.2222222222222222,\"#7201a8\"],[0.3333333333333333,\"#9c179e\"],[0.4444444444444444,\"#bd3786\"],[0.5555555555555556,\"#d8576b\"],[0.6666666666666666,\"#ed7953\"],[0.7777777777777778,\"#fb9f3a\"],[0.8888888888888888,\"#fdca26\"],[1.0,\"#f0f921\"]],\"type\":\"surface\"}],\"table\":[{\"cells\":{\"fill\":{\"color\":\"#EBF0F8\"},\"line\":{\"color\":\"white\"}},\"header\":{\"fill\":{\"color\":\"#C8D4E3\"},\"line\":{\"color\":\"white\"}},\"type\":\"table\"}]},\"layout\":{\"annotationdefaults\":{\"arrowcolor\":\"#2a3f5f\",\"arrowhead\":0,\"arrowwidth\":1},\"autotypenumbers\":\"strict\",\"coloraxis\":{\"colorbar\":{\"outlinewidth\":0,\"ticks\":\"\"}},\"colorscale\":{\"diverging\":[[0,\"#8e0152\"],[0.1,\"#c51b7d\"],[0.2,\"#de77ae\"],[0.3,\"#f1b6da\"],[0.4,\"#fde0ef\"],[0.5,\"#f7f7f7\"],[0.6,\"#e6f5d0\"],[0.7,\"#b8e186\"],[0.8,\"#7fbc41\"],[0.9,\"#4d9221\"],[1,\"#276419\"]],\"sequential\":[[0.0,\"#0d0887\"],[0.1111111111111111,\"#46039f\"],[0.2222222222222222,\"#7201a8\"],[0.3333333333333333,\"#9c179e\"],[0.4444444444444444,\"#bd3786\"],[0.5555555555555556,\"#d8576b\"],[0.6666666666666666,\"#ed7953\"],[0.7777777777777778,\"#fb9f3a\"],[0.8888888888888888,\"#fdca26\"],[1.0,\"#f0f921\"]],\"sequentialminus\":[[0.0,\"#0d0887\"],[0.1111111111111111,\"#46039f\"],[0.2222222222222222,\"#7201a8\"],[0.3333333333333333,\"#9c179e\"],[0.4444444444444444,\"#bd3786\"],[0.5555555555555556,\"#d8576b\"],[0.6666666666666666,\"#ed7953\"],[0.7777777777777778,\"#fb9f3a\"],[0.8888888888888888,\"#fdca26\"],[1.0,\"#f0f921\"]]},\"colorway\":[\"#636efa\",\"#EF553B\",\"#00cc96\",\"#ab63fa\",\"#FFA15A\",\"#19d3f3\",\"#FF6692\",\"#B6E880\",\"#FF97FF\",\"#FECB52\"],\"font\":{\"color\":\"#2a3f5f\"},\"geo\":{\"bgcolor\":\"white\",\"lakecolor\":\"white\",\"landcolor\":\"#E5ECF6\",\"showlakes\":true,\"showland\":true,\"subunitcolor\":\"white\"},\"hoverlabel\":{\"align\":\"left\"},\"hovermode\":\"closest\",\"mapbox\":{\"style\":\"light\"},\"paper_bgcolor\":\"white\",\"plot_bgcolor\":\"#E5ECF6\",\"polar\":{\"angularaxis\":{\"gridcolor\":\"white\",\"linecolor\":\"white\",\"ticks\":\"\"},\"bgcolor\":\"#E5ECF6\",\"radialaxis\":{\"gridcolor\":\"white\",\"linecolor\":\"white\",\"ticks\":\"\"}},\"scene\":{\"xaxis\":{\"backgroundcolor\":\"#E5ECF6\",\"gridcolor\":\"white\",\"gridwidth\":2,\"linecolor\":\"white\",\"showbackground\":true,\"ticks\":\"\",\"zerolinecolor\":\"white\"},\"yaxis\":{\"backgroundcolor\":\"#E5ECF6\",\"gridcolor\":\"white\",\"gridwidth\":2,\"linecolor\":\"white\",\"showbackground\":true,\"ticks\":\"\",\"zerolinecolor\":\"white\"},\"zaxis\":{\"backgroundcolor\":\"#E5ECF6\",\"gridcolor\":\"white\",\"gridwidth\":2,\"linecolor\":\"white\",\"showbackground\":true,\"ticks\":\"\",\"zerolinecolor\":\"white\"}},\"shapedefaults\":{\"line\":{\"color\":\"#2a3f5f\"}},\"ternary\":{\"aaxis\":{\"gridcolor\":\"white\",\"linecolor\":\"white\",\"ticks\":\"\"},\"baxis\":{\"gridcolor\":\"white\",\"linecolor\":\"white\",\"ticks\":\"\"},\"bgcolor\":\"#E5ECF6\",\"caxis\":{\"gridcolor\":\"white\",\"linecolor\":\"white\",\"ticks\":\"\"}},\"title\":{\"x\":0.05},\"xaxis\":{\"automargin\":true,\"gridcolor\":\"white\",\"linecolor\":\"white\",\"ticks\":\"\",\"title\":{\"standoff\":15},\"zerolinecolor\":\"white\",\"zerolinewidth\":2},\"yaxis\":{\"automargin\":true,\"gridcolor\":\"white\",\"linecolor\":\"white\",\"ticks\":\"\",\"title\":{\"standoff\":15},\"zerolinecolor\":\"white\",\"zerolinewidth\":2}}},\"xaxis\":{\"anchor\":\"y\",\"constrain\":\"domain\",\"domain\":[0.0,1.0],\"scaleanchor\":\"y\",\"title\":{\"text\":\"Percent of Features to Pass as a Video\"}},\"yaxis\":{\"anchor\":\"x\",\"autorange\":true,\"constrain\":\"domain\",\"domain\":[0.0,1.0],\"title\":{\"text\":\"Percent of Frames to Pass as a Feature\"}}},                        {\"responsive\": true}                    ).then(function(){\n                            \nvar gd = document.getElementById('a3faa106-1383-42d8-b184-d4b076a99841');\nvar x = new MutationObserver(function (mutations, observer) {{\n        var display = window.getComputedStyle(gd).display;\n        if (!display || display === 'none') {{\n            console.log([gd, 'removed!']);\n            Plotly.purge(gd);\n            observer.disconnect();\n        }}\n}});\n\n// Listen for the removal of the full notebook cells\nvar notebookContainer = gd.closest('#notebook-container');\nif (notebookContainer) {{\n    x.observe(notebookContainer, {childList: true});\n}}\n\n// Listen for the clearing of the current output cell\nvar outputEl = gd.closest('.output');\nif (outputEl) {{\n    x.observe(outputEl, {childList: true});\n}}\n\n                        })                };                });            </script>        </div>"
     },
     "metadata": {},
     "output_type": "display_data"
    }
   ],
   "source": [
    "import plotly.express as px\n",
    "fig = px.imshow(data_wide, origin='lower')\n",
    "fig.update_xaxes(title=\"Percent of Features to Pass as a Video\")\n",
    "fig.update_yaxes(title=\"Percent of Frames to Pass as a Feature\")\n",
    "fig.show()"
   ],
   "metadata": {
    "collapsed": false,
    "pycharm": {
     "name": "#%%\n"
    }
   }
  },
  {
   "cell_type": "code",
   "execution_count": 18,
   "outputs": [],
   "source": [],
   "metadata": {
    "collapsed": false,
    "pycharm": {
     "name": "#%%\n"
    }
   }
  },
  {
   "cell_type": "code",
   "execution_count": null,
   "outputs": [],
   "source": [],
   "metadata": {
    "collapsed": false,
    "pycharm": {
     "name": "#%%\n"
    }
   }
  }
 ],
 "metadata": {
  "kernelspec": {
   "display_name": "Python 3",
   "language": "python",
   "name": "python3"
  },
  "language_info": {
   "codemirror_mode": {
    "name": "ipython",
    "version": 2
   },
   "file_extension": ".py",
   "mimetype": "text/x-python",
   "name": "python",
   "nbconvert_exporter": "python",
   "pygments_lexer": "ipython2",
   "version": "2.7.6"
  }
 },
 "nbformat": 4,
 "nbformat_minor": 0
}