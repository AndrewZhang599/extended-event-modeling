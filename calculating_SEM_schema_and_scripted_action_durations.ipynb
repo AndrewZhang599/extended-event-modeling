{
 "cells": [
  {
   "cell_type": "markdown",
   "id": "42028d72-27db-43f8-a597-17d88798fc45",
   "metadata": {},
   "source": [
    "# Calculating mean durations of SEM schemas and scripted actions"
   ]
  },
  {
   "cell_type": "code",
   "execution_count": 5,
   "id": "5286599e-14fa-4da1-a7bd-dafe00c407b7",
   "metadata": {},
   "outputs": [],
   "source": [
    "import numpy as np\n",
    "import pandas as pd\n",
    "import matplotlib.pyplot as plt\n",
    "from matplotlib.colors import ListedColormap, LogNorm, Normalize\n",
    "from matplotlib.offsetbox import AnchoredOffsetbox, TextArea, HPacker, VPacker\n",
    "from matplotlib import animation\n",
    "import seaborn as sns\n",
    "import pickle as pkl\n",
    "from glob import glob\n",
    "from sklearn.metrics import adjusted_mutual_info_score\n",
    "from copy import deepcopy\n",
    "from tqdm import tqdm\n",
    "from random import shuffle\n",
    "from scipy.optimize import linear_sum_assignment\n",
    "import sys"
   ]
  },
  {
   "cell_type": "code",
   "execution_count": 2,
   "id": "981f3fea-0fa8-42b9-a3cb-41afcc6e9401",
   "metadata": {},
   "outputs": [],
   "source": [
    "fps=25 #kinect\n",
    "\n",
    "# high-level event annotations\n",
    "annotdf = pd.read_csv(\"event_annotation_timing_average.csv\")"
   ]
  },
  {
   "cell_type": "code",
   "execution_count": 3,
   "id": "c4ac6449-d233-46c8-ad9e-0645dd33916c",
   "metadata": {},
   "outputs": [],
   "source": [
    "def compute_schemadf(diagfiles):    \n",
    "    # build a dataframe of active SEM models and high-level event annotations\n",
    "    schemadf=pd.DataFrame()\n",
    "    for dfile in tqdm(diagfiles):\n",
    "        #try:\n",
    "        #print(i/len(diagfiles)*100)\n",
    "        run=dfile.split('/')[-1].split('_')[0]\n",
    "        epoch=dfile.split('/')[-1].split('_')[-1].split('.')[0]\n",
    "        readout_dataframes=pkl.load(open(dfile,'rb'))\n",
    "        e_hat=readout_dataframes['e_hat'] # SEM active events\n",
    "\n",
    "        # find frame index from input df:\n",
    "        input_file=glob(f'output/run_sem/{cache_tag}/{run}_kinect_trim{cache_tag}_inputdf_*.pkl')[0]\n",
    "        input_dataframes = pkl.load(open(input_file, 'rb'))\n",
    "        sec=input_dataframes.x_train.index/fps\n",
    "\n",
    "        #ev=fulldfpca[fulldfpca['run']==run]['ev']\n",
    "\n",
    "        tempdf=pd.DataFrame({'run':run,'epoch':epoch,'e_hat':e_hat,'sec':sec})\n",
    "        tempdf['ev']='none'\n",
    "        rundf=annotdf[annotdf['run']==run]\n",
    "        for i in range(len(rundf)):\n",
    "            ev=rundf.iloc[i]\n",
    "            start=ev['startsec']\n",
    "            end=ev['endsec'] \n",
    "            tempdf.loc[(tempdf['sec'] >= start) & (tempdf['sec'] <= end), 'ev'] = ev['evname']\n",
    "        schemadf=pd.concat([schemadf,tempdf])\n",
    "        #except:\n",
    "        #    print('error',dfile)\n",
    "    #factorize event labels for numeric analyses:\n",
    "    schemadf['ev_fact']=pd.factorize(schemadf['ev'])[0]\n",
    "    return schemadf"
   ]
  },
  {
   "cell_type": "code",
   "execution_count": 4,
   "id": "e598fd1b-f7e6-46ee-b354-536f86cadc16",
   "metadata": {},
   "outputs": [
    {
     "name": "stderr",
     "output_type": "stream",
     "text": [
      "  0%|                                                   | 0/328 [06:47<?, ?it/s]\n"
     ]
    },
    {
     "ename": "OSError",
     "evalue": "[Errno 89] Operation canceled",
     "output_type": "error",
     "traceback": [
      "\u001b[0;31m---------------------------------------------------------------------------\u001b[0m",
      "\u001b[0;31mOSError\u001b[0m                                   Traceback (most recent call last)",
      "Input \u001b[0;32mIn [4]\u001b[0m, in \u001b[0;36m<cell line: 27>\u001b[0;34m()\u001b[0m\n\u001b[1;32m     24\u001b[0m cache_tag\u001b[38;5;241m=\u001b[39m\u001b[38;5;124m'\u001b[39m\u001b[38;5;124mjuly_18_full_.8_.8_1070_1E-03_1E-01_1E+07\u001b[39m\u001b[38;5;124m'\u001b[39m\n\u001b[1;32m     25\u001b[0m diagfiles\u001b[38;5;241m=\u001b[39mglob(\u001b[38;5;124mf\u001b[39m\u001b[38;5;124m'\u001b[39m\u001b[38;5;124moutput/run_sem/\u001b[39m\u001b[38;5;132;01m{\u001b[39;00mcache_tag\u001b[38;5;132;01m}\u001b[39;00m\u001b[38;5;124m/*_diagnostic*.pkl\u001b[39m\u001b[38;5;124m'\u001b[39m)\n\u001b[0;32m---> 27\u001b[0m schemadf\u001b[38;5;241m=\u001b[39m\u001b[43mcompute_schemadf\u001b[49m\u001b[43m(\u001b[49m\u001b[43mdiagfiles\u001b[49m\u001b[43m)\u001b[49m\n\u001b[1;32m     29\u001b[0m \u001b[38;5;66;03m# Add factorized instances \u001b[39;00m\n\u001b[1;32m     30\u001b[0m schemadf[\u001b[38;5;124m'\u001b[39m\u001b[38;5;124mev_instance\u001b[39m\u001b[38;5;124m'\u001b[39m] \u001b[38;5;241m=\u001b[39m schemadf[\u001b[38;5;124m'\u001b[39m\u001b[38;5;124mev\u001b[39m\u001b[38;5;124m'\u001b[39m] \u001b[38;5;241m+\u001b[39m \u001b[38;5;124m'\u001b[39m\u001b[38;5;124m \u001b[39m\u001b[38;5;124m'\u001b[39m \u001b[38;5;241m+\u001b[39m schemadf[\u001b[38;5;124m'\u001b[39m\u001b[38;5;124mrun\u001b[39m\u001b[38;5;124m'\u001b[39m]\n",
      "Input \u001b[0;32mIn [3]\u001b[0m, in \u001b[0;36mcompute_schemadf\u001b[0;34m(diagfiles)\u001b[0m\n\u001b[1;32m      7\u001b[0m run\u001b[38;5;241m=\u001b[39mdfile\u001b[38;5;241m.\u001b[39msplit(\u001b[38;5;124m'\u001b[39m\u001b[38;5;124m/\u001b[39m\u001b[38;5;124m'\u001b[39m)[\u001b[38;5;241m-\u001b[39m\u001b[38;5;241m1\u001b[39m]\u001b[38;5;241m.\u001b[39msplit(\u001b[38;5;124m'\u001b[39m\u001b[38;5;124m_\u001b[39m\u001b[38;5;124m'\u001b[39m)[\u001b[38;5;241m0\u001b[39m]\n\u001b[1;32m      8\u001b[0m epoch\u001b[38;5;241m=\u001b[39mdfile\u001b[38;5;241m.\u001b[39msplit(\u001b[38;5;124m'\u001b[39m\u001b[38;5;124m/\u001b[39m\u001b[38;5;124m'\u001b[39m)[\u001b[38;5;241m-\u001b[39m\u001b[38;5;241m1\u001b[39m]\u001b[38;5;241m.\u001b[39msplit(\u001b[38;5;124m'\u001b[39m\u001b[38;5;124m_\u001b[39m\u001b[38;5;124m'\u001b[39m)[\u001b[38;5;241m-\u001b[39m\u001b[38;5;241m1\u001b[39m]\u001b[38;5;241m.\u001b[39msplit(\u001b[38;5;124m'\u001b[39m\u001b[38;5;124m.\u001b[39m\u001b[38;5;124m'\u001b[39m)[\u001b[38;5;241m0\u001b[39m]\n\u001b[0;32m----> 9\u001b[0m readout_dataframes\u001b[38;5;241m=\u001b[39m\u001b[43mpkl\u001b[49m\u001b[38;5;241;43m.\u001b[39;49m\u001b[43mload\u001b[49m\u001b[43m(\u001b[49m\u001b[38;5;28;43mopen\u001b[39;49m\u001b[43m(\u001b[49m\u001b[43mdfile\u001b[49m\u001b[43m,\u001b[49m\u001b[38;5;124;43m'\u001b[39;49m\u001b[38;5;124;43mrb\u001b[39;49m\u001b[38;5;124;43m'\u001b[39;49m\u001b[43m)\u001b[49m\u001b[43m)\u001b[49m\n\u001b[1;32m     10\u001b[0m e_hat\u001b[38;5;241m=\u001b[39mreadout_dataframes[\u001b[38;5;124m'\u001b[39m\u001b[38;5;124me_hat\u001b[39m\u001b[38;5;124m'\u001b[39m] \u001b[38;5;66;03m# SEM active events\u001b[39;00m\n\u001b[1;32m     12\u001b[0m \u001b[38;5;66;03m# find frame index from input df:\u001b[39;00m\n",
      "\u001b[0;31mOSError\u001b[0m: [Errno 89] Operation canceled"
     ]
    }
   ],
   "source": [
    "# https://github.com/mbezdek/extended-event-modeling/blob/main/qualified_valid_.8_.8.txt\n",
    "valid_runs=['1.3.3',\n",
    "'2.2.10',\n",
    "'4.4.3',\n",
    "'6.1.8',\n",
    "'2.2.9',\n",
    "'1.1.6',\n",
    "'3.4.3',\n",
    "'1.3.6',\n",
    "'2.2.1',\n",
    "'6.3.4',\n",
    "'1.2.7',\n",
    "'4.4.2',\n",
    "'6.2.3',\n",
    "'4.3.5',\n",
    "'6.3.8',\n",
    "'2.4.9',\n",
    "'2.4.2',\n",
    "'3.1.3',\n",
    "'6.1.5',\n",
    "'1.1.8']\n",
    "\n",
    "#cache_tag='april_04_grid_lr1E-03_alfa1E-01_lmda1E+05'\n",
    "cache_tag='july_18_full_.8_.8_1070_1E-03_1E-01_1E+07'\n",
    "diagfiles=glob(f'output/run_sem/{cache_tag}/*_diagnostic*.pkl')\n",
    "\n",
    "schemadf=compute_schemadf(diagfiles)\n",
    "\n",
    "# Add factorized instances \n",
    "schemadf['ev_instance'] = schemadf['ev'] + ' ' + schemadf['run']\n",
    "schemadf['ev_fact_instance'] = pd.factorize(schemadf['ev_instance'])[0]"
   ]
  },
  {
   "cell_type": "code",
   "execution_count": null,
   "id": "232342b5-1ede-4f7c-beff-3a42209dc0eb",
   "metadata": {},
   "outputs": [],
   "source": [
    "# Filter to late epoch (101) and validation runs:\n",
    "testdf=schemadf[(schemadf['epoch'] == '101') & (schemadf['run'].isin(valid_runs))]\n",
    "\n",
    "# Scripted actions:\n",
    "s = testdf['ev_fact_instance']\n",
    "mask = s.ne(s.shift())\n",
    "ids = s[mask].to_numpy()\n",
    "counts = s.groupby(mask.cumsum()).cumcount().add(1).groupby(mask.cumsum()).max().to_numpy()\n",
    "ev_instance_count = pd.Series(counts, index=ids, name='counts')\n",
    "\n",
    "# SEM schemas:\n",
    "s = testdf['e_hat']\n",
    "mask = s.ne(s.shift())\n",
    "ids = s[mask].to_numpy()\n",
    "counts = s.groupby(mask.cumsum()).cumcount().add(1).groupby(mask.cumsum()).max().to_numpy()\n",
    "e_hat_count = pd.Series(counts, index=ids, name='counts')\n"
   ]
  },
  {
   "cell_type": "code",
   "execution_count": null,
   "id": "445ee6d4-61a1-4723-be25-7595b8302e23",
   "metadata": {},
   "outputs": [],
   "source": [
    "print(f'Average scripted action length is {ev_instance_count.mean()/3} seconds')"
   ]
  },
  {
   "cell_type": "code",
   "execution_count": null,
   "id": "908d83e8-aaf7-45be-a1c7-8984afaea3ed",
   "metadata": {},
   "outputs": [],
   "source": [
    "print(f'Average SEM schema length is {e_hat_count.mean()/3} seconds')"
   ]
  },
  {
   "cell_type": "code",
   "execution_count": null,
   "id": "b0505ca7-ca7f-47b9-8976-e8eba7f159f0",
   "metadata": {},
   "outputs": [],
   "source": []
  }
 ],
 "metadata": {
  "kernelspec": {
   "display_name": "Python 3 (ipykernel)",
   "language": "python",
   "name": "python3"
  },
  "language_info": {
   "codemirror_mode": {
    "name": "ipython",
    "version": 3
   },
   "file_extension": ".py",
   "mimetype": "text/x-python",
   "name": "python",
   "nbconvert_exporter": "python",
   "pygments_lexer": "ipython3",
   "version": "3.9.7"
  }
 },
 "nbformat": 4,
 "nbformat_minor": 5
}
